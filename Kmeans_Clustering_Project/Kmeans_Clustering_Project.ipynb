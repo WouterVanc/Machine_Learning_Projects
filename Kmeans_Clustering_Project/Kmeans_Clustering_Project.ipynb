{
 "cells": [
  {
   "cell_type": "markdown",
   "metadata": {},
   "source": [
    "## CIA Country Analysis and Clustering\n",
    "\n",
    "\n",
    "Source: All these data sets are made up of data from the US government. \n",
    "https://www.cia.gov/library/publications/the-world-factbook/docs/faqs.html\n",
    "\n",
    "Gain insights into similarity between countries and regions of the world by experimenting with different cluster amounts.\n",
    "\n",
    "----"
   ]
  },
  {
   "cell_type": "code",
   "execution_count": 169,
   "metadata": {},
   "outputs": [],
   "source": [
    "import numpy as np\n",
    "import pandas as pd\n",
    "import matplotlib.pyplot as plt\n",
    "import seaborn as sns"
   ]
  },
  {
   "cell_type": "markdown",
   "metadata": {},
   "source": [
    "### Exploratory Data Analysis"
   ]
  },
  {
   "cell_type": "code",
   "execution_count": 170,
   "metadata": {},
   "outputs": [
    {
     "data": {
      "text/html": [
       "<div>\n",
       "<style scoped>\n",
       "    .dataframe tbody tr th:only-of-type {\n",
       "        vertical-align: middle;\n",
       "    }\n",
       "\n",
       "    .dataframe tbody tr th {\n",
       "        vertical-align: top;\n",
       "    }\n",
       "\n",
       "    .dataframe thead th {\n",
       "        text-align: right;\n",
       "    }\n",
       "</style>\n",
       "<table border=\"1\" class=\"dataframe\">\n",
       "  <thead>\n",
       "    <tr style=\"text-align: right;\">\n",
       "      <th></th>\n",
       "      <th>Country</th>\n",
       "      <th>Region</th>\n",
       "      <th>Population</th>\n",
       "      <th>Area (sq. mi.)</th>\n",
       "      <th>Pop. Density (per sq. mi.)</th>\n",
       "      <th>Coastline (coast/area ratio)</th>\n",
       "      <th>Net migration</th>\n",
       "      <th>Infant mortality (per 1000 births)</th>\n",
       "      <th>GDP ($ per capita)</th>\n",
       "      <th>Literacy (%)</th>\n",
       "      <th>Phones (per 1000)</th>\n",
       "      <th>Arable (%)</th>\n",
       "      <th>Crops (%)</th>\n",
       "      <th>Other (%)</th>\n",
       "      <th>Climate</th>\n",
       "      <th>Birthrate</th>\n",
       "      <th>Deathrate</th>\n",
       "      <th>Agriculture</th>\n",
       "      <th>Industry</th>\n",
       "      <th>Service</th>\n",
       "    </tr>\n",
       "  </thead>\n",
       "  <tbody>\n",
       "    <tr>\n",
       "      <th>0</th>\n",
       "      <td>Afghanistan</td>\n",
       "      <td>ASIA (EX. NEAR EAST)</td>\n",
       "      <td>31056997</td>\n",
       "      <td>647500</td>\n",
       "      <td>48.0</td>\n",
       "      <td>0.00</td>\n",
       "      <td>23.06</td>\n",
       "      <td>163.07</td>\n",
       "      <td>700.0</td>\n",
       "      <td>36.0</td>\n",
       "      <td>3.2</td>\n",
       "      <td>12.13</td>\n",
       "      <td>0.22</td>\n",
       "      <td>87.65</td>\n",
       "      <td>1.0</td>\n",
       "      <td>46.60</td>\n",
       "      <td>20.34</td>\n",
       "      <td>0.380</td>\n",
       "      <td>0.240</td>\n",
       "      <td>0.380</td>\n",
       "    </tr>\n",
       "    <tr>\n",
       "      <th>1</th>\n",
       "      <td>Albania</td>\n",
       "      <td>EASTERN EUROPE</td>\n",
       "      <td>3581655</td>\n",
       "      <td>28748</td>\n",
       "      <td>124.6</td>\n",
       "      <td>1.26</td>\n",
       "      <td>-4.93</td>\n",
       "      <td>21.52</td>\n",
       "      <td>4500.0</td>\n",
       "      <td>86.5</td>\n",
       "      <td>71.2</td>\n",
       "      <td>21.09</td>\n",
       "      <td>4.42</td>\n",
       "      <td>74.49</td>\n",
       "      <td>3.0</td>\n",
       "      <td>15.11</td>\n",
       "      <td>5.22</td>\n",
       "      <td>0.232</td>\n",
       "      <td>0.188</td>\n",
       "      <td>0.579</td>\n",
       "    </tr>\n",
       "    <tr>\n",
       "      <th>2</th>\n",
       "      <td>Algeria</td>\n",
       "      <td>NORTHERN AFRICA</td>\n",
       "      <td>32930091</td>\n",
       "      <td>2381740</td>\n",
       "      <td>13.8</td>\n",
       "      <td>0.04</td>\n",
       "      <td>-0.39</td>\n",
       "      <td>31.00</td>\n",
       "      <td>6000.0</td>\n",
       "      <td>70.0</td>\n",
       "      <td>78.1</td>\n",
       "      <td>3.22</td>\n",
       "      <td>0.25</td>\n",
       "      <td>96.53</td>\n",
       "      <td>1.0</td>\n",
       "      <td>17.14</td>\n",
       "      <td>4.61</td>\n",
       "      <td>0.101</td>\n",
       "      <td>0.600</td>\n",
       "      <td>0.298</td>\n",
       "    </tr>\n",
       "    <tr>\n",
       "      <th>3</th>\n",
       "      <td>American Samoa</td>\n",
       "      <td>OCEANIA</td>\n",
       "      <td>57794</td>\n",
       "      <td>199</td>\n",
       "      <td>290.4</td>\n",
       "      <td>58.29</td>\n",
       "      <td>-20.71</td>\n",
       "      <td>9.27</td>\n",
       "      <td>8000.0</td>\n",
       "      <td>97.0</td>\n",
       "      <td>259.5</td>\n",
       "      <td>10.00</td>\n",
       "      <td>15.00</td>\n",
       "      <td>75.00</td>\n",
       "      <td>2.0</td>\n",
       "      <td>22.46</td>\n",
       "      <td>3.27</td>\n",
       "      <td>NaN</td>\n",
       "      <td>NaN</td>\n",
       "      <td>NaN</td>\n",
       "    </tr>\n",
       "    <tr>\n",
       "      <th>4</th>\n",
       "      <td>Andorra</td>\n",
       "      <td>WESTERN EUROPE</td>\n",
       "      <td>71201</td>\n",
       "      <td>468</td>\n",
       "      <td>152.1</td>\n",
       "      <td>0.00</td>\n",
       "      <td>6.60</td>\n",
       "      <td>4.05</td>\n",
       "      <td>19000.0</td>\n",
       "      <td>100.0</td>\n",
       "      <td>497.2</td>\n",
       "      <td>2.22</td>\n",
       "      <td>0.00</td>\n",
       "      <td>97.78</td>\n",
       "      <td>3.0</td>\n",
       "      <td>8.71</td>\n",
       "      <td>6.25</td>\n",
       "      <td>NaN</td>\n",
       "      <td>NaN</td>\n",
       "      <td>NaN</td>\n",
       "    </tr>\n",
       "  </tbody>\n",
       "</table>\n",
       "</div>"
      ],
      "text/plain": [
       "          Country                               Region  Population  \\\n",
       "0     Afghanistan        ASIA (EX. NEAR EAST)             31056997   \n",
       "1         Albania  EASTERN EUROPE                          3581655   \n",
       "2         Algeria  NORTHERN AFRICA                        32930091   \n",
       "3  American Samoa  OCEANIA                                   57794   \n",
       "4         Andorra  WESTERN EUROPE                            71201   \n",
       "\n",
       "   Area (sq. mi.)  Pop. Density (per sq. mi.)  Coastline (coast/area ratio)  \\\n",
       "0          647500                        48.0                          0.00   \n",
       "1           28748                       124.6                          1.26   \n",
       "2         2381740                        13.8                          0.04   \n",
       "3             199                       290.4                         58.29   \n",
       "4             468                       152.1                          0.00   \n",
       "\n",
       "   Net migration  Infant mortality (per 1000 births)  GDP ($ per capita)  \\\n",
       "0          23.06                              163.07               700.0   \n",
       "1          -4.93                               21.52              4500.0   \n",
       "2          -0.39                               31.00              6000.0   \n",
       "3         -20.71                                9.27              8000.0   \n",
       "4           6.60                                4.05             19000.0   \n",
       "\n",
       "   Literacy (%)  Phones (per 1000)  Arable (%)  Crops (%)  Other (%)  Climate  \\\n",
       "0          36.0                3.2       12.13       0.22      87.65      1.0   \n",
       "1          86.5               71.2       21.09       4.42      74.49      3.0   \n",
       "2          70.0               78.1        3.22       0.25      96.53      1.0   \n",
       "3          97.0              259.5       10.00      15.00      75.00      2.0   \n",
       "4         100.0              497.2        2.22       0.00      97.78      3.0   \n",
       "\n",
       "   Birthrate  Deathrate  Agriculture  Industry  Service  \n",
       "0      46.60      20.34        0.380     0.240    0.380  \n",
       "1      15.11       5.22        0.232     0.188    0.579  \n",
       "2      17.14       4.61        0.101     0.600    0.298  \n",
       "3      22.46       3.27          NaN       NaN      NaN  \n",
       "4       8.71       6.25          NaN       NaN      NaN  "
      ]
     },
     "execution_count": 170,
     "metadata": {},
     "output_type": "execute_result"
    }
   ],
   "source": [
    "df = pd.read_csv('../DATA/CIA_Country_Facts.csv')\n",
    "df.head()"
   ]
  },
  {
   "cell_type": "code",
   "execution_count": 171,
   "metadata": {},
   "outputs": [
    {
     "name": "stdout",
     "output_type": "stream",
     "text": [
      "<class 'pandas.core.frame.DataFrame'>\n",
      "RangeIndex: 227 entries, 0 to 226\n",
      "Data columns (total 20 columns):\n",
      " #   Column                              Non-Null Count  Dtype  \n",
      "---  ------                              --------------  -----  \n",
      " 0   Country                             227 non-null    object \n",
      " 1   Region                              227 non-null    object \n",
      " 2   Population                          227 non-null    int64  \n",
      " 3   Area (sq. mi.)                      227 non-null    int64  \n",
      " 4   Pop. Density (per sq. mi.)          227 non-null    float64\n",
      " 5   Coastline (coast/area ratio)        227 non-null    float64\n",
      " 6   Net migration                       224 non-null    float64\n",
      " 7   Infant mortality (per 1000 births)  224 non-null    float64\n",
      " 8   GDP ($ per capita)                  226 non-null    float64\n",
      " 9   Literacy (%)                        209 non-null    float64\n",
      " 10  Phones (per 1000)                   223 non-null    float64\n",
      " 11  Arable (%)                          225 non-null    float64\n",
      " 12  Crops (%)                           225 non-null    float64\n",
      " 13  Other (%)                           225 non-null    float64\n",
      " 14  Climate                             205 non-null    float64\n",
      " 15  Birthrate                           224 non-null    float64\n",
      " 16  Deathrate                           223 non-null    float64\n",
      " 17  Agriculture                         212 non-null    float64\n",
      " 18  Industry                            211 non-null    float64\n",
      " 19  Service                             212 non-null    float64\n",
      "dtypes: float64(16), int64(2), object(2)\n",
      "memory usage: 35.6+ KB\n"
     ]
    }
   ],
   "source": [
    "df.info()"
   ]
  },
  {
   "cell_type": "code",
   "execution_count": 172,
   "metadata": {},
   "outputs": [
    {
     "data": {
      "text/html": [
       "<div>\n",
       "<style scoped>\n",
       "    .dataframe tbody tr th:only-of-type {\n",
       "        vertical-align: middle;\n",
       "    }\n",
       "\n",
       "    .dataframe tbody tr th {\n",
       "        vertical-align: top;\n",
       "    }\n",
       "\n",
       "    .dataframe thead th {\n",
       "        text-align: right;\n",
       "    }\n",
       "</style>\n",
       "<table border=\"1\" class=\"dataframe\">\n",
       "  <thead>\n",
       "    <tr style=\"text-align: right;\">\n",
       "      <th></th>\n",
       "      <th>Population</th>\n",
       "      <th>Area (sq. mi.)</th>\n",
       "      <th>Pop. Density (per sq. mi.)</th>\n",
       "      <th>Coastline (coast/area ratio)</th>\n",
       "      <th>Net migration</th>\n",
       "      <th>Infant mortality (per 1000 births)</th>\n",
       "      <th>GDP ($ per capita)</th>\n",
       "      <th>Literacy (%)</th>\n",
       "      <th>Phones (per 1000)</th>\n",
       "      <th>Arable (%)</th>\n",
       "      <th>Crops (%)</th>\n",
       "      <th>Other (%)</th>\n",
       "      <th>Climate</th>\n",
       "      <th>Birthrate</th>\n",
       "      <th>Deathrate</th>\n",
       "      <th>Agriculture</th>\n",
       "      <th>Industry</th>\n",
       "      <th>Service</th>\n",
       "    </tr>\n",
       "  </thead>\n",
       "  <tbody>\n",
       "    <tr>\n",
       "      <th>count</th>\n",
       "      <td>2.270000e+02</td>\n",
       "      <td>2.270000e+02</td>\n",
       "      <td>227.000000</td>\n",
       "      <td>227.000000</td>\n",
       "      <td>224.000000</td>\n",
       "      <td>224.000000</td>\n",
       "      <td>226.000000</td>\n",
       "      <td>209.000000</td>\n",
       "      <td>223.000000</td>\n",
       "      <td>225.000000</td>\n",
       "      <td>225.000000</td>\n",
       "      <td>225.000000</td>\n",
       "      <td>205.000000</td>\n",
       "      <td>224.000000</td>\n",
       "      <td>223.000000</td>\n",
       "      <td>212.000000</td>\n",
       "      <td>211.000000</td>\n",
       "      <td>212.000000</td>\n",
       "    </tr>\n",
       "    <tr>\n",
       "      <th>mean</th>\n",
       "      <td>2.874028e+07</td>\n",
       "      <td>5.982270e+05</td>\n",
       "      <td>379.047137</td>\n",
       "      <td>21.165330</td>\n",
       "      <td>0.038125</td>\n",
       "      <td>35.506964</td>\n",
       "      <td>9689.823009</td>\n",
       "      <td>82.838278</td>\n",
       "      <td>236.061435</td>\n",
       "      <td>13.797111</td>\n",
       "      <td>4.564222</td>\n",
       "      <td>81.638311</td>\n",
       "      <td>2.139024</td>\n",
       "      <td>22.114732</td>\n",
       "      <td>9.241345</td>\n",
       "      <td>0.150844</td>\n",
       "      <td>0.282711</td>\n",
       "      <td>0.565283</td>\n",
       "    </tr>\n",
       "    <tr>\n",
       "      <th>std</th>\n",
       "      <td>1.178913e+08</td>\n",
       "      <td>1.790282e+06</td>\n",
       "      <td>1660.185825</td>\n",
       "      <td>72.286863</td>\n",
       "      <td>4.889269</td>\n",
       "      <td>35.389899</td>\n",
       "      <td>10049.138513</td>\n",
       "      <td>19.722173</td>\n",
       "      <td>227.991829</td>\n",
       "      <td>13.040402</td>\n",
       "      <td>8.361470</td>\n",
       "      <td>16.140835</td>\n",
       "      <td>0.699397</td>\n",
       "      <td>11.176716</td>\n",
       "      <td>4.990026</td>\n",
       "      <td>0.146798</td>\n",
       "      <td>0.138272</td>\n",
       "      <td>0.165841</td>\n",
       "    </tr>\n",
       "    <tr>\n",
       "      <th>min</th>\n",
       "      <td>7.026000e+03</td>\n",
       "      <td>2.000000e+00</td>\n",
       "      <td>0.000000</td>\n",
       "      <td>0.000000</td>\n",
       "      <td>-20.990000</td>\n",
       "      <td>2.290000</td>\n",
       "      <td>500.000000</td>\n",
       "      <td>17.600000</td>\n",
       "      <td>0.200000</td>\n",
       "      <td>0.000000</td>\n",
       "      <td>0.000000</td>\n",
       "      <td>33.330000</td>\n",
       "      <td>1.000000</td>\n",
       "      <td>7.290000</td>\n",
       "      <td>2.290000</td>\n",
       "      <td>0.000000</td>\n",
       "      <td>0.020000</td>\n",
       "      <td>0.062000</td>\n",
       "    </tr>\n",
       "    <tr>\n",
       "      <th>25%</th>\n",
       "      <td>4.376240e+05</td>\n",
       "      <td>4.647500e+03</td>\n",
       "      <td>29.150000</td>\n",
       "      <td>0.100000</td>\n",
       "      <td>-0.927500</td>\n",
       "      <td>8.150000</td>\n",
       "      <td>1900.000000</td>\n",
       "      <td>70.600000</td>\n",
       "      <td>37.800000</td>\n",
       "      <td>3.220000</td>\n",
       "      <td>0.190000</td>\n",
       "      <td>71.650000</td>\n",
       "      <td>2.000000</td>\n",
       "      <td>12.672500</td>\n",
       "      <td>5.910000</td>\n",
       "      <td>0.037750</td>\n",
       "      <td>0.193000</td>\n",
       "      <td>0.429250</td>\n",
       "    </tr>\n",
       "    <tr>\n",
       "      <th>50%</th>\n",
       "      <td>4.786994e+06</td>\n",
       "      <td>8.660000e+04</td>\n",
       "      <td>78.800000</td>\n",
       "      <td>0.730000</td>\n",
       "      <td>0.000000</td>\n",
       "      <td>21.000000</td>\n",
       "      <td>5550.000000</td>\n",
       "      <td>92.500000</td>\n",
       "      <td>176.200000</td>\n",
       "      <td>10.420000</td>\n",
       "      <td>1.030000</td>\n",
       "      <td>85.700000</td>\n",
       "      <td>2.000000</td>\n",
       "      <td>18.790000</td>\n",
       "      <td>7.840000</td>\n",
       "      <td>0.099000</td>\n",
       "      <td>0.272000</td>\n",
       "      <td>0.571000</td>\n",
       "    </tr>\n",
       "    <tr>\n",
       "      <th>75%</th>\n",
       "      <td>1.749777e+07</td>\n",
       "      <td>4.418110e+05</td>\n",
       "      <td>190.150000</td>\n",
       "      <td>10.345000</td>\n",
       "      <td>0.997500</td>\n",
       "      <td>55.705000</td>\n",
       "      <td>15700.000000</td>\n",
       "      <td>98.000000</td>\n",
       "      <td>389.650000</td>\n",
       "      <td>20.000000</td>\n",
       "      <td>4.440000</td>\n",
       "      <td>95.440000</td>\n",
       "      <td>3.000000</td>\n",
       "      <td>29.820000</td>\n",
       "      <td>10.605000</td>\n",
       "      <td>0.221000</td>\n",
       "      <td>0.341000</td>\n",
       "      <td>0.678500</td>\n",
       "    </tr>\n",
       "    <tr>\n",
       "      <th>max</th>\n",
       "      <td>1.313974e+09</td>\n",
       "      <td>1.707520e+07</td>\n",
       "      <td>16271.500000</td>\n",
       "      <td>870.660000</td>\n",
       "      <td>23.060000</td>\n",
       "      <td>191.190000</td>\n",
       "      <td>55100.000000</td>\n",
       "      <td>100.000000</td>\n",
       "      <td>1035.600000</td>\n",
       "      <td>62.110000</td>\n",
       "      <td>50.680000</td>\n",
       "      <td>100.000000</td>\n",
       "      <td>4.000000</td>\n",
       "      <td>50.730000</td>\n",
       "      <td>29.740000</td>\n",
       "      <td>0.769000</td>\n",
       "      <td>0.906000</td>\n",
       "      <td>0.954000</td>\n",
       "    </tr>\n",
       "  </tbody>\n",
       "</table>\n",
       "</div>"
      ],
      "text/plain": [
       "         Population  Area (sq. mi.)  Pop. Density (per sq. mi.)  \\\n",
       "count  2.270000e+02    2.270000e+02                  227.000000   \n",
       "mean   2.874028e+07    5.982270e+05                  379.047137   \n",
       "std    1.178913e+08    1.790282e+06                 1660.185825   \n",
       "min    7.026000e+03    2.000000e+00                    0.000000   \n",
       "25%    4.376240e+05    4.647500e+03                   29.150000   \n",
       "50%    4.786994e+06    8.660000e+04                   78.800000   \n",
       "75%    1.749777e+07    4.418110e+05                  190.150000   \n",
       "max    1.313974e+09    1.707520e+07                16271.500000   \n",
       "\n",
       "       Coastline (coast/area ratio)  Net migration  \\\n",
       "count                    227.000000     224.000000   \n",
       "mean                      21.165330       0.038125   \n",
       "std                       72.286863       4.889269   \n",
       "min                        0.000000     -20.990000   \n",
       "25%                        0.100000      -0.927500   \n",
       "50%                        0.730000       0.000000   \n",
       "75%                       10.345000       0.997500   \n",
       "max                      870.660000      23.060000   \n",
       "\n",
       "       Infant mortality (per 1000 births)  GDP ($ per capita)  Literacy (%)  \\\n",
       "count                          224.000000          226.000000    209.000000   \n",
       "mean                            35.506964         9689.823009     82.838278   \n",
       "std                             35.389899        10049.138513     19.722173   \n",
       "min                              2.290000          500.000000     17.600000   \n",
       "25%                              8.150000         1900.000000     70.600000   \n",
       "50%                             21.000000         5550.000000     92.500000   \n",
       "75%                             55.705000        15700.000000     98.000000   \n",
       "max                            191.190000        55100.000000    100.000000   \n",
       "\n",
       "       Phones (per 1000)  Arable (%)   Crops (%)   Other (%)     Climate  \\\n",
       "count         223.000000  225.000000  225.000000  225.000000  205.000000   \n",
       "mean          236.061435   13.797111    4.564222   81.638311    2.139024   \n",
       "std           227.991829   13.040402    8.361470   16.140835    0.699397   \n",
       "min             0.200000    0.000000    0.000000   33.330000    1.000000   \n",
       "25%            37.800000    3.220000    0.190000   71.650000    2.000000   \n",
       "50%           176.200000   10.420000    1.030000   85.700000    2.000000   \n",
       "75%           389.650000   20.000000    4.440000   95.440000    3.000000   \n",
       "max          1035.600000   62.110000   50.680000  100.000000    4.000000   \n",
       "\n",
       "        Birthrate   Deathrate  Agriculture    Industry     Service  \n",
       "count  224.000000  223.000000   212.000000  211.000000  212.000000  \n",
       "mean    22.114732    9.241345     0.150844    0.282711    0.565283  \n",
       "std     11.176716    4.990026     0.146798    0.138272    0.165841  \n",
       "min      7.290000    2.290000     0.000000    0.020000    0.062000  \n",
       "25%     12.672500    5.910000     0.037750    0.193000    0.429250  \n",
       "50%     18.790000    7.840000     0.099000    0.272000    0.571000  \n",
       "75%     29.820000   10.605000     0.221000    0.341000    0.678500  \n",
       "max     50.730000   29.740000     0.769000    0.906000    0.954000  "
      ]
     },
     "execution_count": 172,
     "metadata": {},
     "output_type": "execute_result"
    }
   ],
   "source": [
    "df.describe()"
   ]
  },
  {
   "cell_type": "code",
   "execution_count": 173,
   "metadata": {},
   "outputs": [
    {
     "data": {
      "image/png": "[encoded data removed]",
      "text/plain": [
       "<Figure size 640x480 with 1 Axes>"
      ]
     },
     "metadata": {},
     "output_type": "display_data"
    }
   ],
   "source": [
    "sns.histplot(data=df, x = 'Population');"
   ]
  },
  {
   "cell_type": "code",
   "execution_count": 174,
   "metadata": {},
   "outputs": [
    {
     "data": {
      "image/png": "[encoded data removed]",
      "text/plain": [
       "<Figure size 640x480 with 1 Axes>"
      ]
     },
     "metadata": {},
     "output_type": "display_data"
    }
   ],
   "source": [
    "sns.histplot(data=df[df['Population']<500000000],x = 'Population');"
   ]
  },
  {
   "cell_type": "code",
   "execution_count": 175,
   "metadata": {},
   "outputs": [
    {
     "data": {
      "image/png": "[encoded data removed]",
      "text/plain": [
       "<Figure size 1200x600 with 1 Axes>"
      ]
     },
     "metadata": {},
     "output_type": "display_data"
    }
   ],
   "source": [
    "plt.figure(figsize=(12,6))\n",
    "sns.barplot(data=df, x = 'Region', y = 'GDP ($ per capita)')\n",
    "plt.xticks(rotation = 90);"
   ]
  },
  {
   "cell_type": "code",
   "execution_count": 176,
   "metadata": {},
   "outputs": [
    {
     "data": {
      "image/png": "[encoded data removed]",
      "text/plain": [
       "<Figure size 1200x600 with 1 Axes>"
      ]
     },
     "metadata": {},
     "output_type": "display_data"
    }
   ],
   "source": [
    "plt.figure(figsize=(12,6))\n",
    "sns.scatterplot(data=df, x = 'GDP ($ per capita)', y = 'Phones (per 1000)', hue= 'Region', palette='viridis');\n",
    "plt.legend(loc = (1.01,0.49));"
   ]
  },
  {
   "cell_type": "code",
   "execution_count": 177,
   "metadata": {},
   "outputs": [
    {
     "data": {
      "image/png": "[encoded data removed]",
      "text/plain": [
       "<Figure size 1200x600 with 1 Axes>"
      ]
     },
     "metadata": {},
     "output_type": "display_data"
    }
   ],
   "source": [
    "plt.figure(figsize=(12,6))\n",
    "sns.scatterplot(data=df, x = 'GDP ($ per capita)', y = 'Literacy (%)', hue= 'Region', palette='viridis');\n",
    "plt.legend(loc = (1.01,0.49));"
   ]
  },
  {
   "cell_type": "code",
   "execution_count": 178,
   "metadata": {},
   "outputs": [
    {
     "data": {
      "image/png": "[encoded data removed]",
      "text/plain": [
       "<Figure size 640x480 with 2 Axes>"
      ]
     },
     "metadata": {},
     "output_type": "display_data"
    }
   ],
   "source": [
    "sns.heatmap(data = df.corr(numeric_only=True));"
   ]
  },
  {
   "cell_type": "code",
   "execution_count": 179,
   "metadata": {},
   "outputs": [
    {
     "data": {
      "image/png": "[encoded data removed]",
      "text/plain": [
       "<Figure size 1000x1000 with 4 Axes>"
      ]
     },
     "metadata": {},
     "output_type": "display_data"
    }
   ],
   "source": [
    "sns.clustermap(data = df.corr(numeric_only=True));"
   ]
  },
  {
   "cell_type": "markdown",
   "metadata": {},
   "source": [
    "-----"
   ]
  },
  {
   "cell_type": "markdown",
   "metadata": {},
   "source": [
    "### Data Preparation and Model Discovery\n",
    "\n",
    "Missing Data"
   ]
  },
  {
   "cell_type": "code",
   "execution_count": 180,
   "metadata": {},
   "outputs": [
    {
     "data": {
      "text/plain": [
       "Country                                0\n",
       "Region                                 0\n",
       "Population                             0\n",
       "Area (sq. mi.)                         0\n",
       "Pop. Density (per sq. mi.)             0\n",
       "Coastline (coast/area ratio)           0\n",
       "Net migration                          3\n",
       "Infant mortality (per 1000 births)     3\n",
       "GDP ($ per capita)                     1\n",
       "Literacy (%)                          18\n",
       "Phones (per 1000)                      4\n",
       "Arable (%)                             2\n",
       "Crops (%)                              2\n",
       "Other (%)                              2\n",
       "Climate                               22\n",
       "Birthrate                              3\n",
       "Deathrate                              4\n",
       "Agriculture                           15\n",
       "Industry                              16\n",
       "Service                               15\n",
       "dtype: int64"
      ]
     },
     "execution_count": 180,
     "metadata": {},
     "output_type": "execute_result"
    }
   ],
   "source": [
    "df.isna().sum()"
   ]
  },
  {
   "cell_type": "code",
   "execution_count": 181,
   "metadata": {},
   "outputs": [
    {
     "data": {
      "text/plain": [
       "3            American Samoa\n",
       "4                   Andorra\n",
       "78                Gibraltar\n",
       "80                Greenland\n",
       "83                     Guam\n",
       "134                 Mayotte\n",
       "140              Montserrat\n",
       "144                   Nauru\n",
       "153      N. Mariana Islands\n",
       "171            Saint Helena\n",
       "174    St Pierre & Miquelon\n",
       "177              San Marino\n",
       "208       Turks & Caicos Is\n",
       "221       Wallis and Futuna\n",
       "223          Western Sahara\n",
       "Name: Country, dtype: object"
      ]
     },
     "execution_count": 181,
     "metadata": {},
     "output_type": "execute_result"
    }
   ],
   "source": [
    "df[df['Agriculture'].isna()]['Country']"
   ]
  },
  {
   "cell_type": "code",
   "execution_count": 182,
   "metadata": {},
   "outputs": [
    {
     "data": {
      "text/plain": [
       "15"
      ]
     },
     "execution_count": 182,
     "metadata": {},
     "output_type": "execute_result"
    }
   ],
   "source": [
    "len(df[df['Agriculture'].isna()])"
   ]
  },
  {
   "cell_type": "code",
   "execution_count": 183,
   "metadata": {},
   "outputs": [],
   "source": [
    "df[df['Agriculture'].isna()] = df[df['Agriculture'].isna()].fillna(0)"
   ]
  },
  {
   "cell_type": "code",
   "execution_count": 184,
   "metadata": {},
   "outputs": [
    {
     "data": {
      "text/plain": [
       "Country                                0\n",
       "Region                                 0\n",
       "Population                             0\n",
       "Area (sq. mi.)                         0\n",
       "Pop. Density (per sq. mi.)             0\n",
       "Coastline (coast/area ratio)           0\n",
       "Net migration                          1\n",
       "Infant mortality (per 1000 births)     1\n",
       "GDP ($ per capita)                     0\n",
       "Literacy (%)                          13\n",
       "Phones (per 1000)                      2\n",
       "Arable (%)                             1\n",
       "Crops (%)                              1\n",
       "Other (%)                              1\n",
       "Climate                               18\n",
       "Birthrate                              1\n",
       "Deathrate                              2\n",
       "Agriculture                            0\n",
       "Industry                               1\n",
       "Service                                1\n",
       "dtype: int64"
      ]
     },
     "execution_count": 184,
     "metadata": {},
     "output_type": "execute_result"
    }
   ],
   "source": [
    "df.isna().sum()"
   ]
  },
  {
   "cell_type": "code",
   "execution_count": 185,
   "metadata": {},
   "outputs": [],
   "source": [
    "df['Climate'] = df['Climate'].fillna(df.groupby('Region')['Climate'].transform('mean'))"
   ]
  },
  {
   "cell_type": "code",
   "execution_count": 186,
   "metadata": {},
   "outputs": [
    {
     "data": {
      "text/plain": [
       "Country                                0\n",
       "Region                                 0\n",
       "Population                             0\n",
       "Area (sq. mi.)                         0\n",
       "Pop. Density (per sq. mi.)             0\n",
       "Coastline (coast/area ratio)           0\n",
       "Net migration                          1\n",
       "Infant mortality (per 1000 births)     1\n",
       "GDP ($ per capita)                     0\n",
       "Literacy (%)                          13\n",
       "Phones (per 1000)                      2\n",
       "Arable (%)                             1\n",
       "Crops (%)                              1\n",
       "Other (%)                              1\n",
       "Climate                                0\n",
       "Birthrate                              1\n",
       "Deathrate                              2\n",
       "Agriculture                            0\n",
       "Industry                               1\n",
       "Service                                1\n",
       "dtype: int64"
      ]
     },
     "execution_count": 186,
     "metadata": {},
     "output_type": "execute_result"
    }
   ],
   "source": [
    "df.isna().sum()"
   ]
  },
  {
   "cell_type": "code",
   "execution_count": 187,
   "metadata": {},
   "outputs": [],
   "source": [
    "df['Literacy (%)'] = df['Literacy (%)'].fillna(df.groupby('Region')['Literacy (%)'].transform('mean'))"
   ]
  },
  {
   "cell_type": "code",
   "execution_count": 188,
   "metadata": {},
   "outputs": [
    {
     "data": {
      "text/plain": [
       "Country                               0\n",
       "Region                                0\n",
       "Population                            0\n",
       "Area (sq. mi.)                        0\n",
       "Pop. Density (per sq. mi.)            0\n",
       "Coastline (coast/area ratio)          0\n",
       "Net migration                         1\n",
       "Infant mortality (per 1000 births)    1\n",
       "GDP ($ per capita)                    0\n",
       "Literacy (%)                          0\n",
       "Phones (per 1000)                     2\n",
       "Arable (%)                            1\n",
       "Crops (%)                             1\n",
       "Other (%)                             1\n",
       "Climate                               0\n",
       "Birthrate                             1\n",
       "Deathrate                             2\n",
       "Agriculture                           0\n",
       "Industry                              1\n",
       "Service                               1\n",
       "dtype: int64"
      ]
     },
     "execution_count": 188,
     "metadata": {},
     "output_type": "execute_result"
    }
   ],
   "source": [
    "df.isna().sum()"
   ]
  },
  {
   "cell_type": "code",
   "execution_count": 189,
   "metadata": {},
   "outputs": [],
   "source": [
    "df = df.dropna()"
   ]
  },
  {
   "cell_type": "code",
   "execution_count": 190,
   "metadata": {},
   "outputs": [
    {
     "data": {
      "text/plain": [
       "Country                               0\n",
       "Region                                0\n",
       "Population                            0\n",
       "Area (sq. mi.)                        0\n",
       "Pop. Density (per sq. mi.)            0\n",
       "Coastline (coast/area ratio)          0\n",
       "Net migration                         0\n",
       "Infant mortality (per 1000 births)    0\n",
       "GDP ($ per capita)                    0\n",
       "Literacy (%)                          0\n",
       "Phones (per 1000)                     0\n",
       "Arable (%)                            0\n",
       "Crops (%)                             0\n",
       "Other (%)                             0\n",
       "Climate                               0\n",
       "Birthrate                             0\n",
       "Deathrate                             0\n",
       "Agriculture                           0\n",
       "Industry                              0\n",
       "Service                               0\n",
       "dtype: int64"
      ]
     },
     "execution_count": 190,
     "metadata": {},
     "output_type": "execute_result"
    }
   ],
   "source": [
    "df.isna().sum()"
   ]
  },
  {
   "cell_type": "markdown",
   "metadata": {},
   "source": [
    "### Data Feature Preparation"
   ]
  },
  {
   "cell_type": "code",
   "execution_count": 191,
   "metadata": {},
   "outputs": [],
   "source": [
    "X = df.drop('Country', axis=1)"
   ]
  },
  {
   "cell_type": "code",
   "execution_count": 192,
   "metadata": {},
   "outputs": [
    {
     "data": {
      "text/html": [
       "<div>\n",
       "<style scoped>\n",
       "    .dataframe tbody tr th:only-of-type {\n",
       "        vertical-align: middle;\n",
       "    }\n",
       "\n",
       "    .dataframe tbody tr th {\n",
       "        vertical-align: top;\n",
       "    }\n",
       "\n",
       "    .dataframe thead th {\n",
       "        text-align: right;\n",
       "    }\n",
       "</style>\n",
       "<table border=\"1\" class=\"dataframe\">\n",
       "  <thead>\n",
       "    <tr style=\"text-align: right;\">\n",
       "      <th></th>\n",
       "      <th>Population</th>\n",
       "      <th>Area (sq. mi.)</th>\n",
       "      <th>Pop. Density (per sq. mi.)</th>\n",
       "      <th>Coastline (coast/area ratio)</th>\n",
       "      <th>Net migration</th>\n",
       "      <th>Infant mortality (per 1000 births)</th>\n",
       "      <th>GDP ($ per capita)</th>\n",
       "      <th>Literacy (%)</th>\n",
       "      <th>Phones (per 1000)</th>\n",
       "      <th>Arable (%)</th>\n",
       "      <th>...</th>\n",
       "      <th>Region_BALTICS</th>\n",
       "      <th>Region_C.W. OF IND. STATES</th>\n",
       "      <th>Region_EASTERN EUROPE</th>\n",
       "      <th>Region_LATIN AMER. &amp; CARIB</th>\n",
       "      <th>Region_NEAR EAST</th>\n",
       "      <th>Region_NORTHERN AFRICA</th>\n",
       "      <th>Region_NORTHERN AMERICA</th>\n",
       "      <th>Region_OCEANIA</th>\n",
       "      <th>Region_SUB-SAHARAN AFRICA</th>\n",
       "      <th>Region_WESTERN EUROPE</th>\n",
       "    </tr>\n",
       "  </thead>\n",
       "  <tbody>\n",
       "    <tr>\n",
       "      <th>0</th>\n",
       "      <td>31056997</td>\n",
       "      <td>647500</td>\n",
       "      <td>48.0</td>\n",
       "      <td>0.00</td>\n",
       "      <td>23.06</td>\n",
       "      <td>163.07</td>\n",
       "      <td>700.0</td>\n",
       "      <td>36.0</td>\n",
       "      <td>3.2</td>\n",
       "      <td>12.13</td>\n",
       "      <td>...</td>\n",
       "      <td>False</td>\n",
       "      <td>False</td>\n",
       "      <td>False</td>\n",
       "      <td>False</td>\n",
       "      <td>False</td>\n",
       "      <td>False</td>\n",
       "      <td>False</td>\n",
       "      <td>False</td>\n",
       "      <td>False</td>\n",
       "      <td>False</td>\n",
       "    </tr>\n",
       "    <tr>\n",
       "      <th>1</th>\n",
       "      <td>3581655</td>\n",
       "      <td>28748</td>\n",
       "      <td>124.6</td>\n",
       "      <td>1.26</td>\n",
       "      <td>-4.93</td>\n",
       "      <td>21.52</td>\n",
       "      <td>4500.0</td>\n",
       "      <td>86.5</td>\n",
       "      <td>71.2</td>\n",
       "      <td>21.09</td>\n",
       "      <td>...</td>\n",
       "      <td>False</td>\n",
       "      <td>False</td>\n",
       "      <td>True</td>\n",
       "      <td>False</td>\n",
       "      <td>False</td>\n",
       "      <td>False</td>\n",
       "      <td>False</td>\n",
       "      <td>False</td>\n",
       "      <td>False</td>\n",
       "      <td>False</td>\n",
       "    </tr>\n",
       "    <tr>\n",
       "      <th>2</th>\n",
       "      <td>32930091</td>\n",
       "      <td>2381740</td>\n",
       "      <td>13.8</td>\n",
       "      <td>0.04</td>\n",
       "      <td>-0.39</td>\n",
       "      <td>31.00</td>\n",
       "      <td>6000.0</td>\n",
       "      <td>70.0</td>\n",
       "      <td>78.1</td>\n",
       "      <td>3.22</td>\n",
       "      <td>...</td>\n",
       "      <td>False</td>\n",
       "      <td>False</td>\n",
       "      <td>False</td>\n",
       "      <td>False</td>\n",
       "      <td>False</td>\n",
       "      <td>True</td>\n",
       "      <td>False</td>\n",
       "      <td>False</td>\n",
       "      <td>False</td>\n",
       "      <td>False</td>\n",
       "    </tr>\n",
       "    <tr>\n",
       "      <th>3</th>\n",
       "      <td>57794</td>\n",
       "      <td>199</td>\n",
       "      <td>290.4</td>\n",
       "      <td>58.29</td>\n",
       "      <td>-20.71</td>\n",
       "      <td>9.27</td>\n",
       "      <td>8000.0</td>\n",
       "      <td>97.0</td>\n",
       "      <td>259.5</td>\n",
       "      <td>10.00</td>\n",
       "      <td>...</td>\n",
       "      <td>False</td>\n",
       "      <td>False</td>\n",
       "      <td>False</td>\n",
       "      <td>False</td>\n",
       "      <td>False</td>\n",
       "      <td>False</td>\n",
       "      <td>False</td>\n",
       "      <td>True</td>\n",
       "      <td>False</td>\n",
       "      <td>False</td>\n",
       "    </tr>\n",
       "    <tr>\n",
       "      <th>4</th>\n",
       "      <td>71201</td>\n",
       "      <td>468</td>\n",
       "      <td>152.1</td>\n",
       "      <td>0.00</td>\n",
       "      <td>6.60</td>\n",
       "      <td>4.05</td>\n",
       "      <td>19000.0</td>\n",
       "      <td>100.0</td>\n",
       "      <td>497.2</td>\n",
       "      <td>2.22</td>\n",
       "      <td>...</td>\n",
       "      <td>False</td>\n",
       "      <td>False</td>\n",
       "      <td>False</td>\n",
       "      <td>False</td>\n",
       "      <td>False</td>\n",
       "      <td>False</td>\n",
       "      <td>False</td>\n",
       "      <td>False</td>\n",
       "      <td>False</td>\n",
       "      <td>True</td>\n",
       "    </tr>\n",
       "  </tbody>\n",
       "</table>\n",
       "<p>5 rows × 29 columns</p>\n",
       "</div>"
      ],
      "text/plain": [
       "   Population  Area (sq. mi.)  Pop. Density (per sq. mi.)  \\\n",
       "0    31056997          647500                        48.0   \n",
       "1     3581655           28748                       124.6   \n",
       "2    32930091         2381740                        13.8   \n",
       "3       57794             199                       290.4   \n",
       "4       71201             468                       152.1   \n",
       "\n",
       "   Coastline (coast/area ratio)  Net migration  \\\n",
       "0                          0.00          23.06   \n",
       "1                          1.26          -4.93   \n",
       "2                          0.04          -0.39   \n",
       "3                         58.29         -20.71   \n",
       "4                          0.00           6.60   \n",
       "\n",
       "   Infant mortality (per 1000 births)  GDP ($ per capita)  Literacy (%)  \\\n",
       "0                              163.07               700.0          36.0   \n",
       "1                               21.52              4500.0          86.5   \n",
       "2                               31.00              6000.0          70.0   \n",
       "3                                9.27              8000.0          97.0   \n",
       "4                                4.05             19000.0         100.0   \n",
       "\n",
       "   Phones (per 1000)  Arable (%)  ...  \\\n",
       "0                3.2       12.13  ...   \n",
       "1               71.2       21.09  ...   \n",
       "2               78.1        3.22  ...   \n",
       "3              259.5       10.00  ...   \n",
       "4              497.2        2.22  ...   \n",
       "\n",
       "   Region_BALTICS                              Region_C.W. OF IND. STATES   \\\n",
       "0                                       False                        False   \n",
       "1                                       False                        False   \n",
       "2                                       False                        False   \n",
       "3                                       False                        False   \n",
       "4                                       False                        False   \n",
       "\n",
       "   Region_EASTERN EUROPE                       Region_LATIN AMER. & CARIB      \\\n",
       "0                                       False                           False   \n",
       "1                                        True                           False   \n",
       "2                                       False                           False   \n",
       "3                                       False                           False   \n",
       "4                                       False                           False   \n",
       "\n",
       "   Region_NEAR EAST                            \\\n",
       "0                                       False   \n",
       "1                                       False   \n",
       "2                                       False   \n",
       "3                                       False   \n",
       "4                                       False   \n",
       "\n",
       "   Region_NORTHERN AFRICA                      \\\n",
       "0                                       False   \n",
       "1                                       False   \n",
       "2                                        True   \n",
       "3                                       False   \n",
       "4                                       False   \n",
       "\n",
       "   Region_NORTHERN AMERICA                     \\\n",
       "0                                       False   \n",
       "1                                       False   \n",
       "2                                       False   \n",
       "3                                       False   \n",
       "4                                       False   \n",
       "\n",
       "   Region_OCEANIA                              \\\n",
       "0                                       False   \n",
       "1                                       False   \n",
       "2                                       False   \n",
       "3                                        True   \n",
       "4                                       False   \n",
       "\n",
       "   Region_SUB-SAHARAN AFRICA                   \\\n",
       "0                                       False   \n",
       "1                                       False   \n",
       "2                                       False   \n",
       "3                                       False   \n",
       "4                                       False   \n",
       "\n",
       "   Region_WESTERN EUROPE                       \n",
       "0                                       False  \n",
       "1                                       False  \n",
       "2                                       False  \n",
       "3                                       False  \n",
       "4                                        True  \n",
       "\n",
       "[5 rows x 29 columns]"
      ]
     },
     "execution_count": 192,
     "metadata": {},
     "output_type": "execute_result"
    }
   ],
   "source": [
    "X = pd.get_dummies(data = X)\n",
    "X.head()"
   ]
  },
  {
   "cell_type": "code",
   "execution_count": 193,
   "metadata": {},
   "outputs": [],
   "source": [
    "from sklearn.preprocessing import StandardScaler\n",
    "\n",
    "scaler = StandardScaler()\n",
    "\n",
    "scaled_X = scaler.fit_transform(X)"
   ]
  },
  {
   "cell_type": "markdown",
   "metadata": {},
   "source": [
    "### Creating and Fitting Kmeans Model"
   ]
  },
  {
   "cell_type": "code",
   "execution_count": 194,
   "metadata": {},
   "outputs": [],
   "source": [
    "from sklearn.cluster import KMeans"
   ]
  },
  {
   "cell_type": "code",
   "execution_count": 195,
   "metadata": {},
   "outputs": [],
   "source": [
    "SSD = list()\n",
    "\n",
    "for k in range(2,30):\n",
    "    \n",
    "    model = KMeans(n_clusters=k, n_init = 10)\n",
    "    \n",
    "    model.fit(scaled_X)\n",
    "    \n",
    "    SSD.append(model.inertia_)"
   ]
  },
  {
   "cell_type": "code",
   "execution_count": 196,
   "metadata": {},
   "outputs": [
    {
     "data": {
      "image/png": "[encoded data removed]",
      "text/plain": [
       "<Figure size 640x480 with 1 Axes>"
      ]
     },
     "metadata": {},
     "output_type": "display_data"
    }
   ],
   "source": [
    "plt.plot(range(2,30),SSD,'o--')\n",
    "plt.xlabel(\"K Value\")\n",
    "plt.ylabel(\" Sum of Squared Distances\");"
   ]
  },
  {
   "cell_type": "code",
   "execution_count": 197,
   "metadata": {},
   "outputs": [
    {
     "data": {
      "image/png": "[encoded data removed]",
      "text/plain": [
       "<Figure size 640x480 with 1 Axes>"
      ]
     },
     "metadata": {},
     "output_type": "display_data"
    }
   ],
   "source": [
    "plt.plot(range(2,30),SSD,'o--')\n",
    "plt.xlabel(\"K Value\")\n",
    "plt.ylabel(\" Sum of Squared Distances\")\n",
    "plt.xlim(1,7);"
   ]
  },
  {
   "cell_type": "code",
   "execution_count": 198,
   "metadata": {},
   "outputs": [
    {
     "data": {
      "image/png": "[encoded data removed]",
      "text/plain": [
       "<Figure size 640x480 with 1 Axes>"
      ]
     },
     "metadata": {},
     "output_type": "display_data"
    }
   ],
   "source": [
    "pd.Series(SSD).diff().plot(kind='bar');"
   ]
  },
  {
   "cell_type": "markdown",
   "metadata": {},
   "source": [
    "-----\n",
    "Choosing K=3"
   ]
  },
  {
   "cell_type": "code",
   "execution_count": 199,
   "metadata": {},
   "outputs": [
    {
     "data": {
      "text/html": [
       "<style>#sk-container-id-8 {color: black;background-color: white;}#sk-container-id-8 pre{padding: 0;}#sk-container-id-8 div.sk-toggleable {background-color: white;}#sk-container-id-8 label.sk-toggleable__label {cursor: pointer;display: block;width: 100%;margin-bottom: 0;padding: 0.3em;box-sizing: border-box;text-align: center;}#sk-container-id-8 label.sk-toggleable__label-arrow:before {content: \"▸\";float: left;margin-right: 0.25em;color: #696969;}#sk-container-id-8 label.sk-toggleable__label-arrow:hover:before {color: black;}#sk-container-id-8 div.sk-estimator:hover label.sk-toggleable__label-arrow:before {color: black;}#sk-container-id-8 div.sk-toggleable__content {max-height: 0;max-width: 0;overflow: hidden;text-align: left;background-color: #f0f8ff;}#sk-container-id-8 div.sk-toggleable__content pre {margin: 0.2em;color: black;border-radius: 0.25em;background-color: #f0f8ff;}#sk-container-id-8 input.sk-toggleable__control:checked~div.sk-toggleable__content {max-height: 200px;max-width: 100%;overflow: auto;}#sk-container-id-8 input.sk-toggleable__control:checked~label.sk-toggleable__label-arrow:before {content: \"▾\";}#sk-container-id-8 div.sk-estimator input.sk-toggleable__control:checked~label.sk-toggleable__label {background-color: #d4ebff;}#sk-container-id-8 div.sk-label input.sk-toggleable__control:checked~label.sk-toggleable__label {background-color: #d4ebff;}#sk-container-id-8 input.sk-hidden--visually {border: 0;clip: rect(1px 1px 1px 1px);clip: rect(1px, 1px, 1px, 1px);height: 1px;margin: -1px;overflow: hidden;padding: 0;position: absolute;width: 1px;}#sk-container-id-8 div.sk-estimator {font-family: monospace;background-color: #f0f8ff;border: 1px dotted black;border-radius: 0.25em;box-sizing: border-box;margin-bottom: 0.5em;}#sk-container-id-8 div.sk-estimator:hover {background-color: #d4ebff;}#sk-container-id-8 div.sk-parallel-item::after {content: \"\";width: 100%;border-bottom: 1px solid gray;flex-grow: 1;}#sk-container-id-8 div.sk-label:hover label.sk-toggleable__label {background-color: #d4ebff;}#sk-container-id-8 div.sk-serial::before {content: \"\";position: absolute;border-left: 1px solid gray;box-sizing: border-box;top: 0;bottom: 0;left: 50%;z-index: 0;}#sk-container-id-8 div.sk-serial {display: flex;flex-direction: column;align-items: center;background-color: white;padding-right: 0.2em;padding-left: 0.2em;position: relative;}#sk-container-id-8 div.sk-item {position: relative;z-index: 1;}#sk-container-id-8 div.sk-parallel {display: flex;align-items: stretch;justify-content: center;background-color: white;position: relative;}#sk-container-id-8 div.sk-item::before, #sk-container-id-8 div.sk-parallel-item::before {content: \"\";position: absolute;border-left: 1px solid gray;box-sizing: border-box;top: 0;bottom: 0;left: 50%;z-index: -1;}#sk-container-id-8 div.sk-parallel-item {display: flex;flex-direction: column;z-index: 1;position: relative;background-color: white;}#sk-container-id-8 div.sk-parallel-item:first-child::after {align-self: flex-end;width: 50%;}#sk-container-id-8 div.sk-parallel-item:last-child::after {align-self: flex-start;width: 50%;}#sk-container-id-8 div.sk-parallel-item:only-child::after {width: 0;}#sk-container-id-8 div.sk-dashed-wrapped {border: 1px dashed gray;margin: 0 0.4em 0.5em 0.4em;box-sizing: border-box;padding-bottom: 0.4em;background-color: white;}#sk-container-id-8 div.sk-label label {font-family: monospace;font-weight: bold;display: inline-block;line-height: 1.2em;}#sk-container-id-8 div.sk-label-container {text-align: center;}#sk-container-id-8 div.sk-container {/* jupyter's `normalize.less` sets `[hidden] { display: none; }` but bootstrap.min.css set `[hidden] { display: none !important; }` so we also need the `!important` here to be able to override the default hidden behavior on the sphinx rendered scikit-learn.org. See: https://github.com/scikit-learn/scikit-learn/issues/21755 */display: inline-block !important;position: relative;}#sk-container-id-8 div.sk-text-repr-fallback {display: none;}</style><div id=\"sk-container-id-8\" class=\"sk-top-container\"><div class=\"sk-text-repr-fallback\"><pre>KMeans(n_clusters=3, n_init=10)</pre><b>In a Jupyter environment, please rerun this cell to show the HTML representation or trust the notebook. <br />On GitHub, the HTML representation is unable to render, please try loading this page with nbviewer.org.</b></div><div class=\"sk-container\" hidden><div class=\"sk-item\"><div class=\"sk-estimator sk-toggleable\"><input class=\"sk-toggleable__control sk-hidden--visually\" id=\"sk-estimator-id-8\" type=\"checkbox\" checked><label for=\"sk-estimator-id-8\" class=\"sk-toggleable__label sk-toggleable__label-arrow\">KMeans</label><div class=\"sk-toggleable__content\"><pre>KMeans(n_clusters=3, n_init=10)</pre></div></div></div></div></div>"
      ],
      "text/plain": [
       "KMeans(n_clusters=3, n_init=10)"
      ]
     },
     "execution_count": 199,
     "metadata": {},
     "output_type": "execute_result"
    }
   ],
   "source": [
    "model = KMeans(n_clusters=3, n_init = 10)\n",
    "model.fit(scaled_X)"
   ]
  },
  {
   "cell_type": "code",
   "execution_count": 200,
   "metadata": {},
   "outputs": [
    {
     "data": {
      "text/plain": [
       "Deathrate                                    -0.740749\n",
       "Region_SUB-SAHARAN AFRICA                    -0.734091\n",
       "Infant mortality (per 1000 births)           -0.564161\n",
       "Birthrate                                    -0.452296\n",
       "Agriculture                                  -0.380670\n",
       "Net migration                                -0.232335\n",
       "Region_WESTERN EUROPE                        -0.134958\n",
       "Climate                                      -0.064159\n",
       "Region_EASTERN EUROPE                        -0.058840\n",
       "Other (%)                                    -0.046626\n",
       "Region_BALTICS                               -0.043357\n",
       "Arable (%)                                   -0.037717\n",
       "Pop. Density (per sq. mi.)                   -0.016705\n",
       "GDP ($ per capita)                            0.008039\n",
       "Region_NORTHERN AMERICA                       0.019085\n",
       "Area (sq. mi.)                                0.034405\n",
       "Industry                                      0.041552\n",
       "Region_ASIA (EX. NEAR EAST)                   0.084417\n",
       "Population                                    0.086608\n",
       "Service                                       0.096146\n",
       "Phones (per 1000)                             0.137725\n",
       "Region_NORTHERN AFRICA                        0.145002\n",
       "Coastline (coast/area ratio)                  0.145326\n",
       "Region_C.W. OF IND. STATES                    0.183274\n",
       "Region_NEAR EAST                              0.211959\n",
       "Region_OCEANIA                                0.234762\n",
       "Crops (%)                                     0.239658\n",
       "Literacy (%)                                  0.359238\n",
       "Region_LATIN AMER. & CARIB                    0.383277\n",
       "K=3 Clusters                                  1.000000\n",
       "Name: K=3 Clusters, dtype: float64"
      ]
     },
     "execution_count": 200,
     "metadata": {},
     "output_type": "execute_result"
    }
   ],
   "source": [
    "X['K=3 Clusters'] = model.labels_\n",
    "X.corr()['K=3 Clusters'].sort_values()"
   ]
  },
  {
   "cell_type": "markdown",
   "metadata": {},
   "source": [
    "------------\n",
    "### Geographical Model Interpretation"
   ]
  },
  {
   "cell_type": "code",
   "execution_count": 201,
   "metadata": {},
   "outputs": [],
   "source": [
    "import plotly.express as px"
   ]
  },
  {
   "cell_type": "code",
   "execution_count": 202,
   "metadata": {},
   "outputs": [
    {
     "data": {
      "text/html": [
       "<div>\n",
       "<style scoped>\n",
       "    .dataframe tbody tr th:only-of-type {\n",
       "        vertical-align: middle;\n",
       "    }\n",
       "\n",
       "    .dataframe tbody tr th {\n",
       "        vertical-align: top;\n",
       "    }\n",
       "\n",
       "    .dataframe thead th {\n",
       "        text-align: right;\n",
       "    }\n",
       "</style>\n",
       "<table border=\"1\" class=\"dataframe\">\n",
       "  <thead>\n",
       "    <tr style=\"text-align: right;\">\n",
       "      <th></th>\n",
       "      <th>Country</th>\n",
       "      <th>ISO Code</th>\n",
       "    </tr>\n",
       "  </thead>\n",
       "  <tbody>\n",
       "    <tr>\n",
       "      <th>0</th>\n",
       "      <td>Afghanistan</td>\n",
       "      <td>AFG</td>\n",
       "    </tr>\n",
       "    <tr>\n",
       "      <th>1</th>\n",
       "      <td>Akrotiri and Dhekelia – See United Kingdom, The</td>\n",
       "      <td>Akrotiri and Dhekelia – See United Kingdom, The</td>\n",
       "    </tr>\n",
       "    <tr>\n",
       "      <th>2</th>\n",
       "      <td>Åland Islands</td>\n",
       "      <td>ALA</td>\n",
       "    </tr>\n",
       "    <tr>\n",
       "      <th>3</th>\n",
       "      <td>Albania</td>\n",
       "      <td>ALB</td>\n",
       "    </tr>\n",
       "    <tr>\n",
       "      <th>4</th>\n",
       "      <td>Algeria</td>\n",
       "      <td>DZA</td>\n",
       "    </tr>\n",
       "    <tr>\n",
       "      <th>...</th>\n",
       "      <td>...</td>\n",
       "      <td>...</td>\n",
       "    </tr>\n",
       "    <tr>\n",
       "      <th>296</th>\n",
       "      <td>Congo, Dem. Rep.</td>\n",
       "      <td>COD</td>\n",
       "    </tr>\n",
       "    <tr>\n",
       "      <th>297</th>\n",
       "      <td>Congo, Repub. of the</td>\n",
       "      <td>COG</td>\n",
       "    </tr>\n",
       "    <tr>\n",
       "      <th>298</th>\n",
       "      <td>Tanzania</td>\n",
       "      <td>TZA</td>\n",
       "    </tr>\n",
       "    <tr>\n",
       "      <th>299</th>\n",
       "      <td>Central African Rep.</td>\n",
       "      <td>CAF</td>\n",
       "    </tr>\n",
       "    <tr>\n",
       "      <th>300</th>\n",
       "      <td>Cote d'Ivoire</td>\n",
       "      <td>CIV</td>\n",
       "    </tr>\n",
       "  </tbody>\n",
       "</table>\n",
       "<p>301 rows × 2 columns</p>\n",
       "</div>"
      ],
      "text/plain": [
       "                                             Country  \\\n",
       "0                                        Afghanistan   \n",
       "1    Akrotiri and Dhekelia – See United Kingdom, The   \n",
       "2                                      Åland Islands   \n",
       "3                                            Albania   \n",
       "4                                            Algeria   \n",
       "..                                               ...   \n",
       "296                                 Congo, Dem. Rep.   \n",
       "297                             Congo, Repub. of the   \n",
       "298                                         Tanzania   \n",
       "299                             Central African Rep.   \n",
       "300                                    Cote d'Ivoire   \n",
       "\n",
       "                                            ISO Code  \n",
       "0                                                AFG  \n",
       "1    Akrotiri and Dhekelia – See United Kingdom, The  \n",
       "2                                                ALA  \n",
       "3                                                ALB  \n",
       "4                                                DZA  \n",
       "..                                               ...  \n",
       "296                                              COD  \n",
       "297                                              COG  \n",
       "298                                              TZA  \n",
       "299                                              CAF  \n",
       "300                                              CIV  \n",
       "\n",
       "[301 rows x 2 columns]"
      ]
     },
     "execution_count": 202,
     "metadata": {},
     "output_type": "execute_result"
    }
   ],
   "source": [
    "iso_codes = pd.read_csv(\"../DATA/country_iso_codes.csv\")\n",
    "iso_codes"
   ]
  },
  {
   "cell_type": "code",
   "execution_count": 203,
   "metadata": {},
   "outputs": [
    {
     "data": {
      "text/plain": [
       "{'Afghanistan': 'AFG',\n",
       " 'Akrotiri and Dhekelia – See United Kingdom, The': 'Akrotiri and Dhekelia – See United Kingdom, The',\n",
       " 'Åland Islands': 'ALA',\n",
       " 'Albania': 'ALB',\n",
       " 'Algeria': 'DZA',\n",
       " 'American Samoa': 'ASM',\n",
       " 'Andorra': 'AND',\n",
       " 'Angola': 'AGO',\n",
       " 'Anguilla': 'AIA',\n",
       " 'Antarctica\\u200a[a]': 'ATA',\n",
       " 'Antigua and Barbuda': 'ATG',\n",
       " 'Argentina': 'ARG',\n",
       " 'Armenia': 'ARM',\n",
       " 'Aruba': 'ABW',\n",
       " 'Ashmore and Cartier Islands – See Australia.': 'Ashmore and Cartier Islands – See Australia.',\n",
       " 'Australia\\u200a[b]': 'AUS',\n",
       " 'Austria': 'AUT',\n",
       " 'Azerbaijan': 'AZE',\n",
       " 'Bahamas (the)': 'BHS',\n",
       " 'Bahrain': 'BHR',\n",
       " 'Bangladesh': 'BGD',\n",
       " 'Barbados': 'BRB',\n",
       " 'Belarus': 'BLR',\n",
       " 'Belgium': 'BEL',\n",
       " 'Belize': 'BLZ',\n",
       " 'Benin': 'BEN',\n",
       " 'Bermuda': 'BMU',\n",
       " 'Bhutan': 'BTN',\n",
       " 'Bolivia (Plurinational State of)': 'BOL',\n",
       " 'Bonaire\\xa0Sint Eustatius\\xa0Saba': 'BES',\n",
       " 'Bosnia and Herzegovina': 'BIH',\n",
       " 'Botswana': 'BWA',\n",
       " 'Bouvet Island': 'BVT',\n",
       " 'Brazil': 'BRA',\n",
       " 'British Indian Ocean Territory (the)': 'IOT',\n",
       " 'British Virgin Islands – See Virgin Islands (British).': 'British Virgin Islands – See Virgin Islands (British).',\n",
       " 'Brunei Darussalam\\u200a[e]': 'BRN',\n",
       " 'Bulgaria': 'BGR',\n",
       " 'Burkina Faso': 'BFA',\n",
       " 'Burma – See Myanmar.': 'Burma – See Myanmar.',\n",
       " 'Burundi': 'BDI',\n",
       " 'Cabo Verde\\u200a[f]': 'CPV',\n",
       " 'Cambodia': 'KHM',\n",
       " 'Cameroon': 'CMR',\n",
       " 'Canada': 'CAN',\n",
       " 'Cape Verde – See Cabo Verde.': 'Cape Verde – See Cabo Verde.',\n",
       " 'Caribbean Netherlands – See Bonaire, Sint Eustatius and Saba.': 'Caribbean Netherlands – See Bonaire, Sint Eustatius and Saba.',\n",
       " 'Cayman Islands (the)': 'CYM',\n",
       " 'Central African Republic (the)': 'CAF',\n",
       " 'Chad': 'TCD',\n",
       " 'Chile': 'CHL',\n",
       " 'China': 'CHN',\n",
       " 'China, The Republic of – See Taiwan (Province of China).': 'China, The Republic of – See Taiwan (Province of China).',\n",
       " 'Christmas Island': 'CXR',\n",
       " 'Clipperton Island – See France.': 'Clipperton Island – See France.',\n",
       " 'Cocos (Keeling) Islands (the)': 'CCK',\n",
       " 'Colombia': 'COL',\n",
       " 'Comoros (the)': 'COM',\n",
       " 'Congo (the Democratic Republic of the)': 'COD',\n",
       " 'Congo (the)\\u200a[g]': 'COG',\n",
       " 'Cook Islands (the)': 'COK',\n",
       " 'Coral Sea Islands – See Australia.': 'Coral Sea Islands – See Australia.',\n",
       " 'Costa Rica': 'CRI',\n",
       " \"Côte d'Ivoire\\u200a[h]\": 'CIV',\n",
       " 'Croatia': 'HRV',\n",
       " 'Cuba': 'CUB',\n",
       " 'Curaçao': 'CUW',\n",
       " 'Cyprus': 'CYP',\n",
       " 'Czechia\\u200a[i]': 'CZE',\n",
       " \"Democratic People's Republic of Korea – See Korea, The Democratic People's Republic of.\": \"Democratic People's Republic of Korea – See Korea, The Democratic People's Republic of.\",\n",
       " 'Democratic Republic of the Congo – See Congo, The Democratic Republic of the.': 'Democratic Republic of the Congo – See Congo, The Democratic Republic of the.',\n",
       " 'Denmark': 'DNK',\n",
       " 'Djibouti': 'DJI',\n",
       " 'Dominica': 'DMA',\n",
       " 'Dominican Republic (the)': 'DOM',\n",
       " 'East Timor – See Timor-Leste.': 'East Timor – See Timor-Leste.',\n",
       " 'Ecuador': 'ECU',\n",
       " 'Egypt': 'EGY',\n",
       " 'El Salvador': 'SLV',\n",
       " 'England – See United Kingdom, The.': 'England – See United Kingdom, The.',\n",
       " 'Equatorial Guinea': 'GNQ',\n",
       " 'Eritrea': 'ERI',\n",
       " 'Estonia': 'EST',\n",
       " 'Eswatini\\u200a[j]': 'SWZ',\n",
       " 'Ethiopia': 'ETH',\n",
       " 'Falkland Islands (the) [Malvinas]\\u200a[k]': 'FLK',\n",
       " 'Faroe Islands (the)': 'FRO',\n",
       " 'Fiji': 'FJI',\n",
       " 'Finland': 'FIN',\n",
       " 'France\\u200a[l]': 'FRA',\n",
       " 'French Guiana': 'GUF',\n",
       " 'French Polynesia': 'PYF',\n",
       " 'French Southern Territories (the)\\u200a[m]': 'ATF',\n",
       " 'Gabon': 'GAB',\n",
       " 'Gambia (the)': 'GMB',\n",
       " 'Georgia': 'GEO',\n",
       " 'Germany': 'DEU',\n",
       " 'Ghana': 'GHA',\n",
       " 'Gibraltar': 'GIB',\n",
       " 'Great Britain – See United Kingdom, The.': 'Great Britain – See United Kingdom, The.',\n",
       " 'Greece': 'GRC',\n",
       " 'Greenland': 'GRL',\n",
       " 'Grenada': 'GRD',\n",
       " 'Guadeloupe': 'GLP',\n",
       " 'Guam': 'GUM',\n",
       " 'Guatemala': 'GTM',\n",
       " 'Guernsey': 'GGY',\n",
       " 'Guinea': 'GIN',\n",
       " 'Guinea-Bissau': 'GNB',\n",
       " 'Guyana': 'GUY',\n",
       " 'Haiti': 'HTI',\n",
       " 'Hawaiian Islands – See United States of America, The.': 'Hawaiian Islands – See United States of America, The.',\n",
       " 'Heard Island and McDonald Islands': 'HMD',\n",
       " 'Holy See (the)\\u200a[n]': 'VAT',\n",
       " 'Honduras': 'HND',\n",
       " 'Hong Kong': 'HKG',\n",
       " 'Hungary': 'HUN',\n",
       " 'Iceland': 'ISL',\n",
       " 'India': 'IND',\n",
       " 'Indonesia': 'IDN',\n",
       " 'Iran (Islamic Republic of)': 'IRN',\n",
       " 'Iraq': 'IRQ',\n",
       " 'Ireland': 'IRL',\n",
       " 'Isle of Man': 'IMN',\n",
       " 'Israel': 'ISR',\n",
       " 'Italy': 'ITA',\n",
       " \"Ivory Coast – See Côte d'Ivoire.\": \"Ivory Coast – See Côte d'Ivoire.\",\n",
       " 'Jamaica': 'JAM',\n",
       " 'Jan Mayen – See Svalbard and Jan Mayen.': 'Jan Mayen – See Svalbard and Jan Mayen.',\n",
       " 'Japan': 'JPN',\n",
       " 'Jersey': 'JEY',\n",
       " 'Jordan': 'JOR',\n",
       " 'Kazakhstan': 'KAZ',\n",
       " 'Kenya': 'KEN',\n",
       " 'Kiribati': 'KIR',\n",
       " \"Korea (the Democratic People's Republic of)\\u200a[o]\": 'PRK',\n",
       " 'Korea (the Republic of)\\u200a[p]': 'KOR',\n",
       " 'Kuwait': 'KWT',\n",
       " 'Kyrgyzstan': 'KGZ',\n",
       " \"Lao People's Democratic Republic (the)\\u200a[q]\": 'LAO',\n",
       " 'Latvia': 'LVA',\n",
       " 'Lebanon': 'LBN',\n",
       " 'Lesotho': 'LSO',\n",
       " 'Liberia': 'LBR',\n",
       " 'Libya': 'LBY',\n",
       " 'Liechtenstein': 'LIE',\n",
       " 'Lithuania': 'LTU',\n",
       " 'Luxembourg': 'LUX',\n",
       " 'Macao\\u200a[r]': 'MAC',\n",
       " 'North Macedonia\\u200a[s]': 'MKD',\n",
       " 'Madagascar': 'MDG',\n",
       " 'Malawi': 'MWI',\n",
       " 'Malaysia': 'MYS',\n",
       " 'Maldives': 'MDV',\n",
       " 'Mali': 'MLI',\n",
       " 'Malta': 'MLT',\n",
       " 'Marshall Islands (the)': 'MHL',\n",
       " 'Martinique': 'MTQ',\n",
       " 'Mauritania': 'MRT',\n",
       " 'Mauritius': 'MUS',\n",
       " 'Mayotte': 'MYT',\n",
       " 'Mexico': 'MEX',\n",
       " 'Micronesia (Federated States of)': 'FSM',\n",
       " 'Moldova (the Republic of)': 'MDA',\n",
       " 'Monaco': 'MCO',\n",
       " 'Mongolia': 'MNG',\n",
       " 'Montenegro': 'MNE',\n",
       " 'Montserrat': 'MSR',\n",
       " 'Morocco': 'MAR',\n",
       " 'Mozambique': 'MOZ',\n",
       " 'Myanmar\\u200a[t]': 'MMR',\n",
       " 'Namibia': 'NAM',\n",
       " 'Nauru': 'NRU',\n",
       " 'Nepal': 'NPL',\n",
       " 'Netherlands (the)': 'NLD',\n",
       " 'New Caledonia': 'NCL',\n",
       " 'New Zealand': 'NZL',\n",
       " 'Nicaragua': 'NIC',\n",
       " 'Niger (the)': 'NER',\n",
       " 'Nigeria': 'NGA',\n",
       " 'Niue': 'NIU',\n",
       " 'Norfolk Island': 'NFK',\n",
       " \"North Korea – See Korea, The Democratic People's Republic of.\": \"North Korea – See Korea, The Democratic People's Republic of.\",\n",
       " 'Northern Ireland – See United Kingdom, The.': 'Northern Ireland – See United Kingdom, The.',\n",
       " 'Northern Mariana Islands (the)': 'MNP',\n",
       " 'Norway': 'NOR',\n",
       " 'Oman': 'OMN',\n",
       " 'Pakistan': 'PAK',\n",
       " 'Palau': 'PLW',\n",
       " 'Palestine, State of': 'PSE',\n",
       " 'Panama': 'PAN',\n",
       " 'Papua New Guinea': 'PNG',\n",
       " 'Paraguay': 'PRY',\n",
       " \"People's Republic of China – See China.\": \"People's Republic of China – See China.\",\n",
       " 'Peru': 'PER',\n",
       " 'Philippines (the)': 'PHL',\n",
       " 'Pitcairn\\u200a[u]': 'PCN',\n",
       " 'Poland': 'POL',\n",
       " 'Portugal': 'PRT',\n",
       " 'Puerto Rico': 'PRI',\n",
       " 'Qatar': 'QAT',\n",
       " 'Republic of China – See Taiwan (Province of China).': 'Republic of China – See Taiwan (Province of China).',\n",
       " 'Republic of Korea – See Korea, The Republic of.': 'Republic of Korea – See Korea, The Republic of.',\n",
       " 'Republic of the Congo – See Congo, The.': 'Republic of the Congo – See Congo, The.',\n",
       " 'Réunion': 'REU',\n",
       " 'Romania': 'ROU',\n",
       " 'Russian Federation (the)\\u200a[v]': 'RUS',\n",
       " 'Rwanda': 'RWA',\n",
       " 'Saba – See Bonaire, Sint Eustatius and Saba.': 'Saba – See Bonaire, Sint Eustatius and Saba.',\n",
       " 'Sahrawi Arab Democratic Republic – See Western Sahara.': 'Sahrawi Arab Democratic Republic – See Western Sahara.',\n",
       " 'Saint Barthélemy': 'BLM',\n",
       " 'Saint Helena\\xa0Ascension Island\\xa0Tristan da Cunha': 'SHN',\n",
       " 'Saint Kitts and Nevis': 'KNA',\n",
       " 'Saint Lucia': 'LCA',\n",
       " 'Saint Martin (French part)': 'MAF',\n",
       " 'Saint Pierre and Miquelon': 'SPM',\n",
       " 'Saint Vincent and the Grenadines': 'VCT',\n",
       " 'Samoa': 'WSM',\n",
       " 'San Marino': 'SMR',\n",
       " 'Sao Tome and Principe': 'STP',\n",
       " 'Saudi Arabia': 'SAU',\n",
       " 'Scotland – See United Kingdom, The.': 'Scotland – See United Kingdom, The.',\n",
       " 'Senegal': 'SEN',\n",
       " 'Serbia': 'SRB',\n",
       " 'Seychelles': 'SYC',\n",
       " 'Sierra Leone': 'SLE',\n",
       " 'Singapore': 'SGP',\n",
       " 'Sint Eustatius – See Bonaire, Sint Eustatius and Saba.': 'Sint Eustatius – See Bonaire, Sint Eustatius and Saba.',\n",
       " 'Sint Maarten (Dutch part)': 'SXM',\n",
       " 'Slovakia': 'SVK',\n",
       " 'Slovenia': 'SVN',\n",
       " 'Solomon Islands': 'SLB',\n",
       " 'Somalia': 'SOM',\n",
       " 'South Africa': 'ZAF',\n",
       " 'South Georgia and the South Sandwich Islands': 'SGS',\n",
       " 'South Korea – See Korea, The Republic of.': 'South Korea – See Korea, The Republic of.',\n",
       " 'South Sudan': 'SSD',\n",
       " 'Spain': 'ESP',\n",
       " 'Sri Lanka': 'LKA',\n",
       " 'Sudan (the)': 'SDN',\n",
       " 'Suriname': 'SUR',\n",
       " 'Svalbard\\xa0Jan Mayen': 'SJM',\n",
       " 'Sweden': 'SWE',\n",
       " 'Switzerland': 'CHE',\n",
       " 'Syrian Arab Republic (the)\\u200a[x]': 'SYR',\n",
       " 'Taiwan (Province of China)\\u200a[y]': 'TWN',\n",
       " 'Tajikistan': 'TJK',\n",
       " 'Tanzania, the United Republic of': 'TZA',\n",
       " 'Thailand': 'THA',\n",
       " 'Timor-Leste\\u200a[aa]': 'TLS',\n",
       " 'Togo': 'TGO',\n",
       " 'Tokelau': 'TKL',\n",
       " 'Tonga': 'TON',\n",
       " 'Trinidad and Tobago': 'TTO',\n",
       " 'Tunisia': 'TUN',\n",
       " 'Turkey': 'TUR',\n",
       " 'Turkmenistan': 'TKM',\n",
       " 'Turks and Caicos Islands (the)': 'TCA',\n",
       " 'Tuvalu': 'TUV',\n",
       " 'Uganda': 'UGA',\n",
       " 'Ukraine': 'UKR',\n",
       " 'United Arab Emirates (the)': 'ARE',\n",
       " 'United Kingdom of Great Britain and Northern Ireland (the)': 'GBR',\n",
       " 'United States Minor Outlying Islands (the)\\u200a[ac]': 'UMI',\n",
       " 'United States of America (the)': 'USA',\n",
       " 'United States Virgin Islands – See Virgin Islands (U.S.).': 'United States Virgin Islands – See Virgin Islands (U.S.).',\n",
       " 'Uruguay': 'URY',\n",
       " 'Uzbekistan': 'UZB',\n",
       " 'Vanuatu': 'VUT',\n",
       " 'Vatican City – See Holy See, The.': 'Vatican City – See Holy See, The.',\n",
       " 'Venezuela (Bolivarian Republic of)': 'VEN',\n",
       " 'Viet Nam\\u200a[ae]': 'VNM',\n",
       " 'Virgin Islands (British)\\u200a[af]': 'VGB',\n",
       " 'Virgin Islands (U.S.)\\u200a[ag]': 'VIR',\n",
       " 'Wales – See United Kingdom, The.': 'Wales – See United Kingdom, The.',\n",
       " 'Wallis and Futuna': 'WLF',\n",
       " 'Western Sahara\\u200a[ah]': 'ESH',\n",
       " 'Yemen': 'YEM',\n",
       " 'Zambia': 'ZMB',\n",
       " 'Zimbabwe': 'ZWE',\n",
       " 'United States': 'USA',\n",
       " 'United Kingdom': 'GBR',\n",
       " 'Venezuela': 'VEN',\n",
       " 'Australia': 'AUS',\n",
       " 'Iran': 'IRN',\n",
       " 'France': 'FRA',\n",
       " 'Russia': 'RUS',\n",
       " 'Korea, North': 'PRK',\n",
       " 'Korea, South': 'KOR',\n",
       " 'Myanmar': 'MMR',\n",
       " 'Burma': 'MMR',\n",
       " 'Vietnam': 'VNM',\n",
       " 'Laos': 'LAO',\n",
       " 'Bolivia': 'BOL',\n",
       " 'Niger': 'NER',\n",
       " 'Sudan': 'SDN',\n",
       " 'Congo, Dem. Rep.': 'COD',\n",
       " 'Congo, Repub. of the': 'COG',\n",
       " 'Tanzania': 'TZA',\n",
       " 'Central African Rep.': 'CAF',\n",
       " \"Cote d'Ivoire\": 'CIV'}"
      ]
     },
     "execution_count": 203,
     "metadata": {},
     "output_type": "execute_result"
    }
   ],
   "source": [
    "iso_mapping = iso_codes.set_index('Country')['ISO Code'].to_dict()\n",
    "iso_mapping"
   ]
  },
  {
   "cell_type": "code",
   "execution_count": 204,
   "metadata": {},
   "outputs": [],
   "source": [
    "df['ISO Code'] = df['Country'].map(iso_mapping)\n",
    "df['Cluster'] = model.labels_"
   ]
  },
  {
   "cell_type": "code",
   "execution_count": 206,
   "metadata": {},
   "outputs": [
    {
     "data": {
      "application/vnd.plotly.v1+json": {
       "config": {
        "plotlyServerURL": "https://plot.ly"
       },
       "data": [
        {
         "coloraxis": "coloraxis",
         "geo": "geo",
         "hovertemplate": "<b>%{hovertext}</b><br><br>ISO Code=%{location}<br>Cluster=%{z}<extra></extra>",
         "hovertext": [
          "Afghanistan",
          "Albania",
          "Algeria",
          "American Samoa",
          "Andorra",
          "Angola",
          "Anguilla",
          "Antigua & Barbuda",
          "Argentina",
          "Armenia",
          "Aruba",
          "Australia",
          "Austria",
          "Azerbaijan",
          "Bahamas, The",
          "Bahrain",
          "Bangladesh",
          "Barbados",
          "Belarus",
          "Belgium",
          "Belize",
          "Benin",
          "Bermuda",
          "Bhutan",
          "Bolivia",
          "Bosnia & Herzegovina",
          "Botswana",
          "Brazil",
          "British Virgin Is.",
          "Brunei",
          "Bulgaria",
          "Burkina Faso",
          "Burma",
          "Burundi",
          "Cambodia",
          "Cameroon",
          "Canada",
          "Cape Verde",
          "Cayman Islands",
          "Central African Rep.",
          "Chad",
          "Chile",
          "China",
          "Colombia",
          "Comoros",
          "Congo, Dem. Rep.",
          "Congo, Repub. of the",
          "Costa Rica",
          "Cote d'Ivoire",
          "Croatia",
          "Cuba",
          "Czech Republic",
          "Denmark",
          "Djibouti",
          "Dominica",
          "Dominican Republic",
          "Ecuador",
          "Egypt",
          "El Salvador",
          "Equatorial Guinea",
          "Eritrea",
          "Estonia",
          "Ethiopia",
          "Faroe Islands",
          "Fiji",
          "Finland",
          "France",
          "French Guiana",
          "French Polynesia",
          "Gabon",
          "Gambia, The",
          "Gaza Strip",
          "Georgia",
          "Germany",
          "Ghana",
          "Gibraltar",
          "Greece",
          "Greenland",
          "Grenada",
          "Guadeloupe",
          "Guam",
          "Guatemala",
          "Guinea",
          "Guinea-Bissau",
          "Guyana",
          "Haiti",
          "Honduras",
          "Hong Kong",
          "Hungary",
          "Iceland",
          "India",
          "Indonesia",
          "Iran",
          "Iraq",
          "Ireland",
          "Isle of Man",
          "Israel",
          "Italy",
          "Jamaica",
          "Japan",
          "Jersey",
          "Jordan",
          "Kazakhstan",
          "Kenya",
          "Kiribati",
          "Korea, North",
          "Korea, South",
          "Kuwait",
          "Kyrgyzstan",
          "Laos",
          "Latvia",
          "Lebanon",
          "Lesotho",
          "Liberia",
          "Libya",
          "Liechtenstein",
          "Lithuania",
          "Luxembourg",
          "Macau",
          "Macedonia",
          "Madagascar",
          "Malawi",
          "Malaysia",
          "Maldives",
          "Mali",
          "Malta",
          "Marshall Islands",
          "Martinique",
          "Mauritania",
          "Mauritius",
          "Mayotte",
          "Mexico",
          "Micronesia, Fed. St.",
          "Moldova",
          "Mongolia",
          "Montserrat",
          "Morocco",
          "Mozambique",
          "Namibia",
          "Nauru",
          "Nepal",
          "Netherlands",
          "Netherlands Antilles",
          "New Caledonia",
          "New Zealand",
          "Nicaragua",
          "Niger",
          "Nigeria",
          "N. Mariana Islands",
          "Norway",
          "Oman",
          "Pakistan",
          "Palau",
          "Panama",
          "Papua New Guinea",
          "Paraguay",
          "Peru",
          "Philippines",
          "Poland",
          "Portugal",
          "Puerto Rico",
          "Qatar",
          "Reunion",
          "Romania",
          "Russia",
          "Rwanda",
          "Saint Helena",
          "Saint Kitts & Nevis",
          "Saint Lucia",
          "St Pierre & Miquelon",
          "Saint Vincent and the Grenadines",
          "Samoa",
          "San Marino",
          "Sao Tome & Principe",
          "Saudi Arabia",
          "Senegal",
          "Seychelles",
          "Sierra Leone",
          "Singapore",
          "Slovakia",
          "Slovenia",
          "Solomon Islands",
          "Somalia",
          "South Africa",
          "Spain",
          "Sri Lanka",
          "Sudan",
          "Suriname",
          "Swaziland",
          "Sweden",
          "Switzerland",
          "Syria",
          "Taiwan",
          "Tajikistan",
          "Tanzania",
          "Thailand",
          "Togo",
          "Tonga",
          "Trinidad & Tobago",
          "Tunisia",
          "Turkey",
          "Turkmenistan",
          "Turks & Caicos Is",
          "Tuvalu",
          "Uganda",
          "Ukraine",
          "United Arab Emirates",
          "United Kingdom",
          "United States",
          "Uruguay",
          "Uzbekistan",
          "Vanuatu",
          "Venezuela",
          "Vietnam",
          "Virgin Islands",
          "Wallis and Futuna",
          "West Bank",
          "Western Sahara",
          "Yemen",
          "Zambia",
          "Zimbabwe"
         ],
         "locations": [
          "AFG",
          "ALB",
          "DZA",
          "ASM",
          "AND",
          "AGO",
          "AIA",
          null,
          "ARG",
          "ARM",
          "ABW",
          "AUS",
          "AUT",
          "AZE",
          null,
          "BHR",
          "BGD",
          "BRB",
          "BLR",
          "BEL",
          "BLZ",
          "BEN",
          "BMU",
          "BTN",
          "BOL",
          null,
          "BWA",
          "BRA",
          null,
          null,
          "BGR",
          "BFA",
          "MMR",
          "BDI",
          "KHM",
          "CMR",
          "CAN",
          null,
          null,
          "CAF",
          "TCD",
          "CHL",
          "CHN",
          "COL",
          null,
          "COD",
          "COG",
          "CRI",
          "CIV",
          "HRV",
          "CUB",
          null,
          "DNK",
          "DJI",
          "DMA",
          null,
          "ECU",
          "EGY",
          "SLV",
          "GNQ",
          "ERI",
          "EST",
          "ETH",
          null,
          "FJI",
          "FIN",
          "FRA",
          "GUF",
          "PYF",
          "GAB",
          null,
          null,
          "GEO",
          "DEU",
          "GHA",
          "GIB",
          "GRC",
          "GRL",
          "GRD",
          "GLP",
          "GUM",
          "GTM",
          "GIN",
          "GNB",
          "GUY",
          "HTI",
          "HND",
          "HKG",
          "HUN",
          "ISL",
          "IND",
          "IDN",
          "IRN",
          "IRQ",
          "IRL",
          "IMN",
          "ISR",
          "ITA",
          "JAM",
          "JPN",
          "JEY",
          "JOR",
          "KAZ",
          "KEN",
          "KIR",
          "PRK",
          "KOR",
          "KWT",
          "KGZ",
          "LAO",
          "LVA",
          "LBN",
          "LSO",
          "LBR",
          "LBY",
          "LIE",
          "LTU",
          "LUX",
          null,
          null,
          "MDG",
          "MWI",
          "MYS",
          "MDV",
          "MLI",
          "MLT",
          null,
          "MTQ",
          "MRT",
          "MUS",
          "MYT",
          "MEX",
          null,
          null,
          "MNG",
          "MSR",
          "MAR",
          "MOZ",
          "NAM",
          "NRU",
          "NPL",
          null,
          null,
          "NCL",
          "NZL",
          "NIC",
          "NER",
          "NGA",
          null,
          "NOR",
          "OMN",
          "PAK",
          "PLW",
          "PAN",
          "PNG",
          "PRY",
          "PER",
          null,
          "POL",
          "PRT",
          "PRI",
          "QAT",
          null,
          "ROU",
          "RUS",
          "RWA",
          null,
          null,
          "LCA",
          null,
          "VCT",
          "WSM",
          "SMR",
          null,
          "SAU",
          "SEN",
          "SYC",
          "SLE",
          "SGP",
          "SVK",
          "SVN",
          "SLB",
          "SOM",
          "ZAF",
          "ESP",
          "LKA",
          "SDN",
          "SUR",
          null,
          "SWE",
          "CHE",
          null,
          null,
          "TJK",
          "TZA",
          "THA",
          "TGO",
          "TON",
          null,
          "TUN",
          "TUR",
          "TKM",
          null,
          "TUV",
          "UGA",
          "UKR",
          null,
          "GBR",
          "USA",
          "URY",
          "UZB",
          "VUT",
          "VEN",
          "VNM",
          null,
          "WLF",
          null,
          null,
          "YEM",
          "ZMB",
          "ZWE"
         ],
         "name": "",
         "type": "choropleth",
         "z": [
          0,
          2,
          2,
          2,
          1,
          0,
          2,
          2,
          2,
          2,
          1,
          1,
          1,
          2,
          2,
          2,
          2,
          1,
          1,
          1,
          2,
          0,
          1,
          0,
          2,
          1,
          0,
          2,
          1,
          2,
          1,
          0,
          2,
          0,
          2,
          0,
          1,
          2,
          1,
          0,
          0,
          2,
          2,
          2,
          0,
          0,
          0,
          2,
          0,
          1,
          2,
          1,
          1,
          0,
          2,
          2,
          2,
          2,
          2,
          0,
          0,
          1,
          0,
          1,
          2,
          1,
          1,
          2,
          2,
          0,
          0,
          2,
          2,
          1,
          0,
          1,
          1,
          2,
          2,
          2,
          2,
          2,
          0,
          0,
          2,
          2,
          2,
          1,
          1,
          1,
          2,
          2,
          2,
          2,
          1,
          1,
          1,
          1,
          2,
          1,
          1,
          2,
          2,
          0,
          2,
          2,
          1,
          2,
          2,
          0,
          1,
          2,
          0,
          0,
          2,
          1,
          1,
          1,
          1,
          1,
          0,
          0,
          2,
          2,
          0,
          1,
          2,
          2,
          0,
          1,
          0,
          2,
          2,
          2,
          2,
          2,
          2,
          0,
          0,
          2,
          0,
          1,
          2,
          2,
          1,
          2,
          0,
          0,
          2,
          1,
          2,
          2,
          2,
          2,
          2,
          2,
          2,
          2,
          1,
          1,
          2,
          2,
          2,
          1,
          2,
          0,
          2,
          2,
          2,
          2,
          2,
          2,
          1,
          2,
          2,
          0,
          2,
          0,
          1,
          1,
          1,
          2,
          0,
          0,
          1,
          2,
          0,
          2,
          0,
          1,
          1,
          2,
          1,
          2,
          0,
          2,
          0,
          2,
          2,
          2,
          2,
          2,
          2,
          2,
          0,
          2,
          2,
          1,
          1,
          2,
          2,
          2,
          2,
          2,
          2,
          2,
          2,
          2,
          2,
          0,
          0
         ]
        }
       ],
       "layout": {
        "coloraxis": {
         "colorbar": {
          "title": {
           "text": "Cluster"
          }
         },
         "colorscale": [
          [
           0,
           "#440154"
          ],
          [
           0.1111111111111111,
           "#482878"
          ],
          [
           0.2222222222222222,
           "#3e4989"
          ],
          [
           0.3333333333333333,
           "#31688e"
          ],
          [
           0.4444444444444444,
           "#26828e"
          ],
          [
           0.5555555555555556,
           "#1f9e89"
          ],
          [
           0.6666666666666666,
           "#35b779"
          ],
          [
           0.7777777777777778,
           "#6ece58"
          ],
          [
           0.8888888888888888,
           "#b5de2b"
          ],
          [
           1,
           "#fde725"
          ]
         ]
        },
        "geo": {
         "center": {},
         "domain": {
          "x": [
           0,
           1
          ],
          "y": [
           0,
           1
          ]
         }
        },
        "legend": {
         "tracegroupgap": 0
        },
        "margin": {
         "t": 60
        },
        "template": {
         "data": {
          "bar": [
           {
            "error_x": {
             "color": "#2a3f5f"
            },
            "error_y": {
             "color": "#2a3f5f"
            },
            "marker": {
             "line": {
              "color": "#E5ECF6",
              "width": 0.5
             },
             "pattern": {
              "fillmode": "overlay",
              "size": 10,
              "solidity": 0.2
             }
            },
            "type": "bar"
           }
          ],
          "barpolar": [
           {
            "marker": {
             "line": {
              "color": "#E5ECF6",
              "width": 0.5
             },
             "pattern": {
              "fillmode": "overlay",
              "size": 10,
              "solidity": 0.2
             }
            },
            "type": "barpolar"
           }
          ],
          "carpet": [
           {
            "aaxis": {
             "endlinecolor": "#2a3f5f",
             "gridcolor": "white",
             "linecolor": "white",
             "minorgridcolor": "white",
             "startlinecolor": "#2a3f5f"
            },
            "baxis": {
             "endlinecolor": "#2a3f5f",
             "gridcolor": "white",
             "linecolor": "white",
             "minorgridcolor": "white",
             "startlinecolor": "#2a3f5f"
            },
            "type": "carpet"
           }
          ],
          "choropleth": [
           {
            "colorbar": {
             "outlinewidth": 0,
             "ticks": ""
            },
            "type": "choropleth"
           }
          ],
          "contour": [
           {
            "colorbar": {
             "outlinewidth": 0,
             "ticks": ""
            },
            "colorscale": [
             [
              0,
              "#0d0887"
             ],
             [
              0.1111111111111111,
              "#46039f"
             ],
             [
              0.2222222222222222,
              "#7201a8"
             ],
             [
              0.3333333333333333,
              "#9c179e"
             ],
             [
              0.4444444444444444,
              "#bd3786"
             ],
             [
              0.5555555555555556,
              "#d8576b"
             ],
             [
              0.6666666666666666,
              "#ed7953"
             ],
             [
              0.7777777777777778,
              "#fb9f3a"
             ],
             [
              0.8888888888888888,
              "#fdca26"
             ],
             [
              1,
              "#f0f921"
             ]
            ],
            "type": "contour"
           }
          ],
          "contourcarpet": [
           {
            "colorbar": {
             "outlinewidth": 0,
             "ticks": ""
            },
            "type": "contourcarpet"
           }
          ],
          "heatmap": [
           {
            "colorbar": {
             "outlinewidth": 0,
             "ticks": ""
            },
            "colorscale": [
             [
              0,
              "#0d0887"
             ],
             [
              0.1111111111111111,
              "#46039f"
             ],
             [
              0.2222222222222222,
              "#7201a8"
             ],
             [
              0.3333333333333333,
              "#9c179e"
             ],
             [
              0.4444444444444444,
              "#bd3786"
             ],
             [
              0.5555555555555556,
              "#d8576b"
             ],
             [
              0.6666666666666666,
              "#ed7953"
             ],
             [
              0.7777777777777778,
              "#fb9f3a"
             ],
             [
              0.8888888888888888,
              "#fdca26"
             ],
             [
              1,
              "#f0f921"
             ]
            ],
            "type": "heatmap"
           }
          ],
          "heatmapgl": [
           {
            "colorbar": {
             "outlinewidth": 0,
             "ticks": ""
            },
            "colorscale": [
             [
              0,
              "#0d0887"
             ],
             [
              0.1111111111111111,
              "#46039f"
             ],
             [
              0.2222222222222222,
              "#7201a8"
             ],
             [
              0.3333333333333333,
              "#9c179e"
             ],
             [
              0.4444444444444444,
              "#bd3786"
             ],
             [
              0.5555555555555556,
              "#d8576b"
             ],
             [
              0.6666666666666666,
              "#ed7953"
             ],
             [
              0.7777777777777778,
              "#fb9f3a"
             ],
             [
              0.8888888888888888,
              "#fdca26"
             ],
             [
              1,
              "#f0f921"
             ]
            ],
            "type": "heatmapgl"
           }
          ],
          "histogram": [
           {
            "marker": {
             "pattern": {
              "fillmode": "overlay",
              "size": 10,
              "solidity": 0.2
             }
            },
            "type": "histogram"
           }
          ],
          "histogram2d": [
           {
            "colorbar": {
             "outlinewidth": 0,
             "ticks": ""
            },
            "colorscale": [
             [
              0,
              "#0d0887"
             ],
             [
              0.1111111111111111,
              "#46039f"
             ],
             [
              0.2222222222222222,
              "#7201a8"
             ],
             [
              0.3333333333333333,
              "#9c179e"
             ],
             [
              0.4444444444444444,
              "#bd3786"
             ],
             [
              0.5555555555555556,
              "#d8576b"
             ],
             [
              0.6666666666666666,
              "#ed7953"
             ],
             [
              0.7777777777777778,
              "#fb9f3a"
             ],
             [
              0.8888888888888888,
              "#fdca26"
             ],
             [
              1,
              "#f0f921"
             ]
            ],
            "type": "histogram2d"
           }
          ],
          "histogram2dcontour": [
           {
            "colorbar": {
             "outlinewidth": 0,
             "ticks": ""
            },
            "colorscale": [
             [
              0,
              "#0d0887"
             ],
             [
              0.1111111111111111,
              "#46039f"
             ],
             [
              0.2222222222222222,
              "#7201a8"
             ],
             [
              0.3333333333333333,
              "#9c179e"
             ],
             [
              0.4444444444444444,
              "#bd3786"
             ],
             [
              0.5555555555555556,
              "#d8576b"
             ],
             [
              0.6666666666666666,
              "#ed7953"
             ],
             [
              0.7777777777777778,
              "#fb9f3a"
             ],
             [
              0.8888888888888888,
              "#fdca26"
             ],
             [
              1,
              "#f0f921"
             ]
            ],
            "type": "histogram2dcontour"
           }
          ],
          "mesh3d": [
           {
            "colorbar": {
             "outlinewidth": 0,
             "ticks": ""
            },
            "type": "mesh3d"
           }
          ],
          "parcoords": [
           {
            "line": {
             "colorbar": {
              "outlinewidth": 0,
              "ticks": ""
             }
            },
            "type": "parcoords"
           }
          ],
          "pie": [
           {
            "automargin": true,
            "type": "pie"
           }
          ],
          "scatter": [
           {
            "fillpattern": {
             "fillmode": "overlay",
             "size": 10,
             "solidity": 0.2
            },
            "type": "scatter"
           }
          ],
          "scatter3d": [
           {
            "line": {
             "colorbar": {
              "outlinewidth": 0,
              "ticks": ""
             }
            },
            "marker": {
             "colorbar": {
              "outlinewidth": 0,
              "ticks": ""
             }
            },
            "type": "scatter3d"
           }
          ],
          "scattercarpet": [
           {
            "marker": {
             "colorbar": {
              "outlinewidth": 0,
              "ticks": ""
             }
            },
            "type": "scattercarpet"
           }
          ],
          "scattergeo": [
           {
            "marker": {
             "colorbar": {
              "outlinewidth": 0,
              "ticks": ""
             }
            },
            "type": "scattergeo"
           }
          ],
          "scattergl": [
           {
            "marker": {
             "colorbar": {
              "outlinewidth": 0,
              "ticks": ""
             }
            },
            "type": "scattergl"
           }
          ],
          "scattermapbox": [
           {
            "marker": {
             "colorbar": {
              "outlinewidth": 0,
              "ticks": ""
             }
            },
            "type": "scattermapbox"
           }
          ],
          "scatterpolar": [
           {
            "marker": {
             "colorbar": {
              "outlinewidth": 0,
              "ticks": ""
             }
            },
            "type": "scatterpolar"
           }
          ],
          "scatterpolargl": [
           {
            "marker": {
             "colorbar": {
              "outlinewidth": 0,
              "ticks": ""
             }
            },
            "type": "scatterpolargl"
           }
          ],
          "scatterternary": [
           {
            "marker": {
             "colorbar": {
              "outlinewidth": 0,
              "ticks": ""
             }
            },
            "type": "scatterternary"
           }
          ],
          "surface": [
           {
            "colorbar": {
             "outlinewidth": 0,
             "ticks": ""
            },
            "colorscale": [
             [
              0,
              "#0d0887"
             ],
             [
              0.1111111111111111,
              "#46039f"
             ],
             [
              0.2222222222222222,
              "#7201a8"
             ],
             [
              0.3333333333333333,
              "#9c179e"
             ],
             [
              0.4444444444444444,
              "#bd3786"
             ],
             [
              0.5555555555555556,
              "#d8576b"
             ],
             [
              0.6666666666666666,
              "#ed7953"
             ],
             [
              0.7777777777777778,
              "#fb9f3a"
             ],
             [
              0.8888888888888888,
              "#fdca26"
             ],
             [
              1,
              "#f0f921"
             ]
            ],
            "type": "surface"
           }
          ],
          "table": [
           {
            "cells": {
             "fill": {
              "color": "#EBF0F8"
             },
             "line": {
              "color": "white"
             }
            },
            "header": {
             "fill": {
              "color": "#C8D4E3"
             },
             "line": {
              "color": "white"
             }
            },
            "type": "table"
           }
          ]
         },
         "layout": {
          "annotationdefaults": {
           "arrowcolor": "#2a3f5f",
           "arrowhead": 0,
           "arrowwidth": 1
          },
          "autotypenumbers": "strict",
          "coloraxis": {
           "colorbar": {
            "outlinewidth": 0,
            "ticks": ""
           }
          },
          "colorscale": {
           "diverging": [
            [
             0,
             "#8e0152"
            ],
            [
             0.1,
             "#c51b7d"
            ],
            [
             0.2,
             "#de77ae"
            ],
            [
             0.3,
             "#f1b6da"
            ],
            [
             0.4,
             "#fde0ef"
            ],
            [
             0.5,
             "#f7f7f7"
            ],
            [
             0.6,
             "#e6f5d0"
            ],
            [
             0.7,
             "#b8e186"
            ],
            [
             0.8,
             "#7fbc41"
            ],
            [
             0.9,
             "#4d9221"
            ],
            [
             1,
             "#276419"
            ]
           ],
           "sequential": [
            [
             0,
             "#0d0887"
            ],
            [
             0.1111111111111111,
             "#46039f"
            ],
            [
             0.2222222222222222,
             "#7201a8"
            ],
            [
             0.3333333333333333,
             "#9c179e"
            ],
            [
             0.4444444444444444,
             "#bd3786"
            ],
            [
             0.5555555555555556,
             "#d8576b"
            ],
            [
             0.6666666666666666,
             "#ed7953"
            ],
            [
             0.7777777777777778,
             "#fb9f3a"
            ],
            [
             0.8888888888888888,
             "#fdca26"
            ],
            [
             1,
             "#f0f921"
            ]
           ],
           "sequentialminus": [
            [
             0,
             "#0d0887"
            ],
            [
             0.1111111111111111,
             "#46039f"
            ],
            [
             0.2222222222222222,
             "#7201a8"
            ],
            [
             0.3333333333333333,
             "#9c179e"
            ],
            [
             0.4444444444444444,
             "#bd3786"
            ],
            [
             0.5555555555555556,
             "#d8576b"
            ],
            [
             0.6666666666666666,
             "#ed7953"
            ],
            [
             0.7777777777777778,
             "#fb9f3a"
            ],
            [
             0.8888888888888888,
             "#fdca26"
            ],
            [
             1,
             "#f0f921"
            ]
           ]
          },
          "colorway": [
           "#636efa",
           "#EF553B",
           "#00cc96",
           "#ab63fa",
           "#FFA15A",
           "#19d3f3",
           "#FF6692",
           "#B6E880",
           "#FF97FF",
           "#FECB52"
          ],
          "font": {
           "color": "#2a3f5f"
          },
          "geo": {
           "bgcolor": "white",
           "lakecolor": "white",
           "landcolor": "#E5ECF6",
           "showlakes": true,
           "showland": true,
           "subunitcolor": "white"
          },
          "hoverlabel": {
           "align": "left"
          },
          "hovermode": "closest",
          "mapbox": {
           "style": "light"
          },
          "paper_bgcolor": "white",
          "plot_bgcolor": "#E5ECF6",
          "polar": {
           "angularaxis": {
            "gridcolor": "white",
            "linecolor": "white",
            "ticks": ""
           },
           "bgcolor": "#E5ECF6",
           "radialaxis": {
            "gridcolor": "white",
            "linecolor": "white",
            "ticks": ""
           }
          },
          "scene": {
           "xaxis": {
            "backgroundcolor": "#E5ECF6",
            "gridcolor": "white",
            "gridwidth": 2,
            "linecolor": "white",
            "showbackground": true,
            "ticks": "",
            "zerolinecolor": "white"
           },
           "yaxis": {
            "backgroundcolor": "#E5ECF6",
            "gridcolor": "white",
            "gridwidth": 2,
            "linecolor": "white",
            "showbackground": true,
            "ticks": "",
            "zerolinecolor": "white"
           },
           "zaxis": {
            "backgroundcolor": "#E5ECF6",
            "gridcolor": "white",
            "gridwidth": 2,
            "linecolor": "white",
            "showbackground": true,
            "ticks": "",
            "zerolinecolor": "white"
           }
          },
          "shapedefaults": {
           "line": {
            "color": "#2a3f5f"
           }
          },
          "ternary": {
           "aaxis": {
            "gridcolor": "white",
            "linecolor": "white",
            "ticks": ""
           },
           "baxis": {
            "gridcolor": "white",
            "linecolor": "white",
            "ticks": ""
           },
           "bgcolor": "#E5ECF6",
           "caxis": {
            "gridcolor": "white",
            "linecolor": "white",
            "ticks": ""
           }
          },
          "title": {
           "x": 0.05
          },
          "xaxis": {
           "automargin": true,
           "gridcolor": "white",
           "linecolor": "white",
           "ticks": "",
           "title": {
            "standoff": 15
           },
           "zerolinecolor": "white",
           "zerolinewidth": 2
          },
          "yaxis": {
           "automargin": true,
           "gridcolor": "white",
           "linecolor": "white",
           "ticks": "",
           "title": {
            "standoff": 15
           },
           "zerolinecolor": "white",
           "zerolinewidth": 2
          }
         }
        }
       }
      }
     },
     "metadata": {},
     "output_type": "display_data"
    }
   ],
   "source": [
    "import plotly.express as px\n",
    "\n",
    "fig = px.choropleth(df, locations=\"ISO Code\",\n",
    "                    color=\"Cluster\", \n",
    "                    hover_name=\"Country\", \n",
    "                    color_continuous_scale='Viridis'\n",
    "                    )\n",
    "fig.show()"
   ]
  },
  {
   "cell_type": "markdown",
   "metadata": {},
   "source": [
    "See graphical representation above in the attached .png file "
   ]
  },
  {
   "cell_type": "markdown",
   "metadata": {},
   "source": [
    "---"
   ]
  }
 ],
 "metadata": {
  "anaconda-cloud": {},
  "kernelspec": {
   "display_name": "Python 3",
   "language": "python",
   "name": "python3"
  },
  "language_info": {
   "codemirror_mode": {
    "name": "ipython",
    "version": 3
   },
   "file_extension": ".py",
   "mimetype": "text/x-python",
   "name": "python",
   "nbconvert_exporter": "python",
   "pygments_lexer": "ipython3",
   "version": "3.11.3"
  }
 },
 "nbformat": 4,
 "nbformat_minor": 1
}
